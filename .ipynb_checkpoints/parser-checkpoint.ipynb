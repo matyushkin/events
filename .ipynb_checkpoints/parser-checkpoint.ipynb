{
 "cells": [
  {
   "cell_type": "markdown",
   "metadata": {},
   "source": [
    "TODO:\n",
    "- Прочитать: https://habr.com/ru/post/349860/#Skobochnye_gruppy_gruppirovka_plyus_kvantifikatory\n",
    "- extract-time можно использовать для того, чтобы указывать интервал времени (от минимального до конечного)\n",
    "- Написать тестирующую функцию для подбора регулярных выражений под определенный ключевой запрос - для поиска тем и спикеров\n",
    "- Для контактов - pop_contacts"
   ]
  },
  {
   "cell_type": "markdown",
   "metadata": {
    "Collapsed": "false",
    "toc-hr-collapsed": true,
    "toc-nb-collapsed": true
   },
   "source": [
    "# 🐅 Парсер\n",
    "\n",
    "Парсинг начинается со страниц, перечисленных в `pages.json`. Файл содержит необходимые сведения о структуре страниц сайта: стартовая страница, селекторы страницы, отвечающие за их описания (могут быть на стартовой `start_url` или внутренних страницах `event_urk`), количество соответствующих элементов. Если для ссылки события пока нет описания в файле `events.json`, в результате парсинга создаётся соответствующий объект. Этот файл используется для генерации карточек мероприятий в HTML, публикуемый на [matyushkin.github.io/events](https://matyushkin.github.io/events/)."
   ]
  },
  {
   "cell_type": "code",
   "execution_count": 1,
   "metadata": {
    "Collapsed": "false"
   },
   "outputs": [
    {
     "name": "stdout",
     "output_type": "stream",
     "text": [
      "Обновляем базу данных...\n",
      "Все необходимые поля имеются у следующих стартовых страниц: \n",
      "https://events.yandex.ru/\n",
      "https://it-events.com/\n",
      "\n",
      "Анализируем стартовую страницу https://events.yandex.ru/\n",
      "1. Обработка https://yandex.ru/promo/events/yace\n",
      "'NoneType' object has no attribute 'group'\n",
      "2. Обработка https://events.yandex.ru/events/hardware/31-july-2020\n",
      "3. Обработка https://cloud.yandex.ru/events/156\n",
      "4. Обработка https://cloud.yandex.ru/events/148\n",
      "5. Обработка https://events.yandex.ru/events/mini-giperbaton-22-07-2020\n",
      "6. Обработка https://cloud.yandex.ru/events/155\n",
      "7. Обработка https://cloud.yandex.ru/events/154\n",
      "8. Обработка https://yandex.ru/promo/maps/meetup/avto\n",
      "\n",
      "Анализируем стартовую страницу https://it-events.com/\n",
      "1. Обработка https://it-events.com/events/18603\n",
      "2. Обработка https://it-events.com/events/17476\n",
      "3. Обработка https://it-events.com/events/18837\n",
      "4. Обработка https://it-events.com/events/18552\n",
      "5. Обработка https://it-events.com/events/18823\n",
      "6. Обработка https://it-events.com/events/18753\n",
      "7. Обработка https://it-events.com/events/18835\n",
      "8. Обработка https://it-events.com/events/18819\n",
      "9. Обработка https://it-events.com/events/18849\n",
      "10. Обработка https://it-events.com/events/18769\n",
      "11. Обработка https://it-events.com/events/18782\n",
      "12. Обработка https://it-events.com/events/18773\n",
      "13. Обработка https://it-events.com/events/14615\n",
      "14. Обработка https://it-events.com/events/18843\n",
      "15. Обработка https://it-events.com/events/18715\n",
      "16. Обработка https://it-events.com/events/18821\n",
      "17. Обработка https://it-events.com/events/18841\n",
      "18. Обработка https://it-events.com/events/18803\n",
      "19. Обработка https://it-events.com/events/18721\n",
      "20. Обработка https://it-events.com/events/18851\n",
      "21. Обработка https://it-events.com/events/18831\n",
      "22. Обработка https://it-events.com/events/18697\n",
      "23. Обработка https://it-events.com/events/17587\n",
      "24. Обработка https://it-events.com/events/18829\n",
      "25. Обработка https://it-events.com/events/18813\n",
      "26. Обработка https://it-events.com/events/18847\n",
      "27. Обработка https://it-events.com/events/18423\n",
      "28. Обработка https://it-events.com/events/18842\n",
      "29. Обработка https://it-events.com/events/18472\n",
      "30. Обработка https://it-events.com/events/18712\n",
      "31. Обработка https://it-events.com/events/5668\n",
      "32. Обработка https://it-events.com/events/18465\n",
      "33. Обработка https://it-events.com/events/18445\n",
      "'NoneType' object has no attribute 'group'\n",
      "34. Обработка https://it-events.com/events/18833\n",
      "35. Обработка https://it-events.com/events/17258\n",
      "36. Обработка https://it-events.com/events/18576\n",
      "37. Обработка https://it-events.com/events/18832\n",
      "38. Обработка https://it-events.com/events/18805\n",
      "39. Обработка https://it-events.com/events/18587\n",
      "40. Обработка https://it-events.com/events/18814\n",
      "41. Обработка https://it-events.com/events/14623\n",
      "42. Обработка https://it-events.com/events/17854\n",
      "43. Обработка https://it-events.com/events/17543\n",
      "44. Обработка https://it-events.com/events/18710\n",
      "45. Обработка https://it-events.com/events/15642\n",
      "46. Обработка https://it-events.com/events/18463\n",
      "47. Обработка https://it-events.com/events/17215\n",
      "48. Обработка https://it-events.com/events/18518\n",
      "49. Обработка https://it-events.com/events/18828\n",
      "50. Обработка https://it-events.com/events/18767\n",
      "51. Обработка https://it-events.com/events/18791\n",
      "52. Обработка https://it-events.com/events/17617\n",
      "53. Обработка https://it-events.com/events/18776\n",
      "54. Обработка https://it-events.com/events/17809\n",
      "55. Обработка https://it-events.com/events/17687\n",
      "56. Обработка https://it-events.com/events/17873\n",
      "57. Обработка https://it-events.com/events/17413\n",
      "58. Обработка https://it-events.com/events/18794\n",
      "59. Обработка https://it-events.com/events/14622\n",
      "60. Обработка https://it-events.com/events/17762\n",
      "61. Обработка https://it-events.com/events/16484\n",
      "62. Обработка https://it-events.com/events/18795\n",
      "63. Обработка https://it-events.com/events/17801\n",
      "64. Обработка https://it-events.com/events/16855\n",
      "65. Обработка https://it-events.com/events/12951\n",
      "66. Обработка https://it-events.com/events/18796\n",
      "67. Обработка https://it-events.com/events/17248\n",
      "68. Обработка https://it-events.com/events/17474\n",
      "69. Обработка https://it-events.com/events/12399\n",
      "70. Обработка https://it-events.com/events/17765\n",
      "71. Обработка https://it-events.com/events/17637\n",
      "72. Обработка https://it-events.com/events/14625\n",
      "73. Обработка https://it-events.com/events/17509\n",
      "74. Обработка https://it-events.com/events/17259\n",
      "75. Обработка https://it-events.com/events/18089\n",
      "76. Обработка https://it-events.com/events/18797\n",
      "77. Обработка https://it-events.com/events/14370\n",
      "78. Обработка https://it-events.com/events/11470\n",
      "79. Обработка https://it-events.com/events/17291\n",
      "80. Обработка https://it-events.com/events/17012\n",
      "81. Обработка https://it-events.com/events/17261\n"
     ]
    }
   ],
   "source": [
    "from parser import *\n",
    "\n",
    "def reload_modules():\n",
    "    '''Инструмент тестирования и разработки:\n",
    "    reload всех уже импортированных модулей'''\n",
    "    modulenames = set(sys.modules) & set(globals())\n",
    "    allmodules = [sys.modules[name] for name in modulenames]\n",
    "    for module in allmodules:\n",
    "        importlib.reload(module)\n",
    "\n",
    "pages_checked = files.pages_checked()\n",
    "print('Все необходимые поля имеются у следующих стартовых страниц: ')\n",
    "for page in pages_checked:\n",
    "    print(page)\n",
    "                \n",
    "for start_url in pages_checked:\n",
    "    print(f\"\\nАнализируем стартовую страницу {start_url}\")\n",
    "    start_page = StartPage(start_url)\n",
    "    actual = start_page.actual_events\n",
    "    for i, event_url in enumerate(actual, 1):\n",
    "        print(f'{i}. Обработка {event_url}')\n",
    "        event = EventPage(event_url, start_page)\n",
    "        del event.data['soup']\n",
    "        files.events[event_url] = event.data"
   ]
  },
  {
   "cell_type": "code",
   "execution_count": 2,
   "metadata": {
    "Collapsed": "false"
   },
   "outputs": [],
   "source": [
    "with open('files/events.json', 'w', encoding='utf-8') as events_file:\n",
    "    json.dump(files.events, events_file, ensure_ascii=False)"
   ]
  },
  {
   "cell_type": "markdown",
   "metadata": {
    "Collapsed": "false"
   },
   "source": [
    "# Анализируем и дополняем полученную информацию\n",
    "\n",
    "Предварительно, если среди мероприятий имеются мероприятия, не обрабатываемые парсером (`events_special`) или рекламируемые (`events_promo`), обрабатываем их отдельно. Для этого помечаем их в датафрейме особым образом."
   ]
  },
  {
   "cell_type": "code",
   "execution_count": 3,
   "metadata": {},
   "outputs": [],
   "source": [
    "reload_modules()\n",
    "df = pd.DataFrame.from_dict(files.events, orient='index')\n",
    "df['description'] = df['description'].apply(lambda x: x, 'html.parser')"
   ]
  },
  {
   "cell_type": "code",
   "execution_count": 4,
   "metadata": {},
   "outputs": [],
   "source": [
    "# Сразу выкидываем мероприятия, которые не хотим видеть\n",
    "df.drop(files.bad['urls'])\n",
    "for theme in files.bad['themes']:\n",
    "    df = df[~df.title.str.contains(theme)]\n",
    "\n",
    "# Соортируем по дате, оставляем актуальные\n",
    "df = df.sort_values(by=['date'])\n",
    "df = df[df['date'] >= handlers.current_date.isoformat()]   #! добавить проверку на время\n",
    "\n",
    "\n",
    "#df['type'] = df.index.map(promo_and_special())\n",
    "\n",
    "# Вписываем теги и типы мероприятий по картам тегов и типов\n",
    "df['tags'] = df.apply(lambda x: handlers.find_spec(x, 'tags'), axis=1)\n",
    "df['types'] = df.apply(lambda x: handlers.find_spec(x, 'event_types'), axis=1)\n",
    "\n",
    "\n",
    "# Для фильтрации мероприятий по месяцам и добавления меток \"Позже\" и \"∞\"\n",
    "df['month'] = df.date.apply(langs.date_to_month)"
   ]
  },
  {
   "cell_type": "code",
   "execution_count": 5,
   "metadata": {
    "Collapsed": "false"
   },
   "outputs": [],
   "source": [
    "# def promo_and_special():\n",
    "#     event_types = 'promo', 'special'\n",
    "#     d = {}\n",
    "#     for event_type in event_types:\n",
    "#         event_urls = list(eval(f'files.events_{event_type}.keys()'))\n",
    "#         for event_url in event_urls:\n",
    "#             d[event_url] = event_type\n",
    "#     return d\n",
    "\n",
    "\n",
    "def fill_empty_cells():\n",
    "    def emptyfill(x, t):\n",
    "        try:\n",
    "            if math.isnan(x):\n",
    "                if t == str:\n",
    "                    return ''\n",
    "                elif t == list:\n",
    "                    return ['']\n",
    "                else:\n",
    "                    return set()\n",
    "            else:\n",
    "                return x\n",
    "        except:\n",
    "            return x\n",
    "\n",
    "    for col in df:\n",
    "        try:\n",
    "            t = type(df[col][df[col].notnull()][0])\n",
    "            df[col] = df[col].apply(lambda x: emptyfill(x, t))\n",
    "        except IndexError:\n",
    "            pass\n",
    "        \n",
    "fill_empty_cells()"
   ]
  },
  {
   "cell_type": "markdown",
   "metadata": {},
   "source": [
    "https://regex101.com/"
   ]
  },
  {
   "cell_type": "code",
   "execution_count": 6,
   "metadata": {},
   "outputs": [],
   "source": [
    "_ = df.description.apply(lambda x: langs.soup_to_text(BeautifulSoup(x, 'html.parser')))"
   ]
  },
  {
   "cell_type": "code",
   "execution_count": 7,
   "metadata": {},
   "outputs": [],
   "source": [
    "# Попытаемся найти дополнительно спикеров из описания докладов\n",
    "df['description'] = _.apply(lambda x: x['text'])\n",
    "df['themes'] += _.apply(lambda x: x['themes'])\n",
    "df['speakers'] += _.apply(lambda x: x['speakers'])"
   ]
  },
  {
   "cell_type": "code",
   "execution_count": 8,
   "metadata": {},
   "outputs": [],
   "source": [
    "# В строках устраним лишние пробелы\n",
    "df.description = df.description.apply(lambda x: \" \".join(x.split()))\n",
    "\n",
    "# Удалим упоминания стран из мест\n",
    "df.location = df.location.apply(lambda x: {re.sub(',? (?:Россия|Украина|Беларусь)', '', x)})"
   ]
  },
  {
   "cell_type": "code",
   "execution_count": 9,
   "metadata": {},
   "outputs": [],
   "source": [
    "# Соединяем онлайн-статус и локацию\n",
    "df.location = df.apply(lambda x: x.location| {x.online_status}, 1).apply(lambda x: x-{'Offline', ''})"
   ]
  },
  {
   "cell_type": "code",
   "execution_count": 10,
   "metadata": {},
   "outputs": [
    {
     "data": {
      "text/plain": [
       "array(['0', '6 000 ₽', 'от 4 800 ₽', '42 000 ₽', '490 ₽',\n",
       "       '26 500 - 48 500 ₽', '299 - 550 ₽', '$435', '39 000 ₽', '50$',\n",
       "       'от 65 евро', '500 - 675$', '4 000 - 25 000 ₽', '46 000 ₽',\n",
       "       '1 500 - 6 500 ₴', '2 700 - 8 000 ₴', '60 000 - 65 000 ₽',\n",
       "       '9 900 - 15 900 ₽', 'уточняйте у организатора', '340 €',\n",
       "       '45 500 ₽', '70 000 - 75 000 ₽', '4 500 - 40 000 ₽',\n",
       "       '14 000 - 34 000 ₽', '500 - 8 000 ₴', '250$', '10 000 ₽',\n",
       "       '10 000 - 26 000 ₽', '8 500 - 47 000 ₽', '20 250 - 157 500 ₽',\n",
       "       '21 000 - 94 500 ₽', '8 000 - 14 000 ₽'], dtype=object)"
      ]
     },
     "execution_count": 10,
     "metadata": {},
     "output_type": "execute_result"
    }
   ],
   "source": [
    "import re\n",
    "\n",
    "df1 = df.price.apply(lambda x: re.sub('Стоимость участия:[\\n\\s]*', '', x))\n",
    "df1 = df1.apply(lambda x: re.sub('\\s*(?:руб.|RUB|rub)', ' ₽', x))\n",
    "df1 = df1.apply(lambda x: re.sub('\\s*(?:EURO)', ' €', x))\n",
    "df1 = df1.apply(lambda x: re.sub('\\s*(?:UAH|грн.)', ' ₴', x))\n",
    "\n",
    "df1.unique()"
   ]
  },
  {
   "cell_type": "markdown",
   "metadata": {
    "Collapsed": "false"
   },
   "source": [
    "# Собираем HTML-страницу и деплоим проект 💃"
   ]
  },
  {
   "cell_type": "markdown",
   "metadata": {},
   "source": [
    "Сформируем блок вступления. Определим имеющиеся страницы сбора, общее количество выводимых мероприятий, даты."
   ]
  },
  {
   "cell_type": "code",
   "execution_count": 20,
   "metadata": {},
   "outputs": [
    {
     "name": "stdout",
     "output_type": "stream",
     "text": [
      "<section><p>На этой странице приведен список IT-мероприятий, собранных <a href=\"https://github.com/matyushkin/events\">специально разработанным парсером</a>. Парсер считывает информацию со страниц мероприятий <a href=\"https://events.yandex.ru/\">Яндекса</a> и <a href=\"https://it-events.com/\">IT-Events</a>. Сегодня он собрал 86 событий с 17 июля по 19 декабря 2020 года. Если вы хотите добавить свой ресурс, пишите в телеграм <a href=\"https://t.me/bythi\">@bythi</a> или на почту leva.matyushkin@gmail.com.</p><p>Чтобы найти интересующее мероприятие, воспользуйтесь панелью фильтров.</p></section>\n"
     ]
    }
   ],
   "source": [
    "reload_modules()\n",
    "import pymorphy2\n",
    "import datetime\n",
    "morph = pymorphy2.MorphAnalyzer()\n",
    "m = morph.parse('событие')[0]\n",
    "\n",
    "n = df.shape[0]\n",
    "github_events_url = \"https://github.com/matyushkin/events\"\n",
    "\n",
    "intro = f\"\"\"<section><p>На этой странице приведен список IT-мероприятий, \\\n",
    "собранных <a href=\"{github_events_url}\">специально разработанным парсером</a>. \\\n",
    "Парсер считывает информацию со страниц мероприятий \\\n",
    "{langs.string_of_page_checked_urls(pages_checked)}. \\\n",
    "Сегодня он собрал {n} {m.make_agree_with_number(n).word} \\\n",
    "{langs.date_interval_string(df.date[0], df.date[n-1])}. \\\n",
    "Если вы хотите добавить свой ресурс, \\\n",
    "пишите в телеграм <a href=\"https://t.me/bythi\">@bythi</a> \\\n",
    "или на почту leva.matyushkin@gmail.com.</p>\\\n",
    "<p>Чтобы найти интересующее мероприятие, \\\n",
    "воспользуйтесь панелью фильтров.</p>\\\n",
    "</section>\"\"\"\n",
    "\n",
    "print(intro)"
   ]
  },
  {
   "cell_type": "markdown",
   "metadata": {
    "Collapsed": "false"
   },
   "source": [
    "Для сборки страницы используем BeautifulSoup. Страницу собираем, объединяя soup-объекты в один."
   ]
  },
  {
   "cell_type": "code",
   "execution_count": 21,
   "metadata": {
    "Collapsed": "false"
   },
   "outputs": [],
   "source": [
    "from bs4 import BeautifulSoup, Comment\n",
    "from itertools import zip_longest\n",
    "import copy\n",
    "\n",
    "with open(\"files/event_card_template.html\") as template:\n",
    "    template = BeautifulSoup(template.read(), 'html.parser')\n",
    "\n",
    "\n",
    "def add_info(template, data):\n",
    "    s = copy.copy(template)\n",
    "    \n",
    "    # Информационный блок\n",
    "    data_block = s.find(\"div\", {\"class\":\"event\"})\n",
    "    companies = [*data.organizers, *data.speakers_companies]\n",
    "    companies = \" \".join(list(set(companies))).strip()\n",
    "    data_block['data-companies'] = companies\n",
    "    \n",
    "    data_block['data-month'] = data.month\n",
    "    data_block['data-price'] = data.price\n",
    "    data_block['data-online'] = data.online_status\n",
    "    if data.tags:\n",
    "        data_block['data-tags'] = \", \".join(data.tags)\n",
    "    else:\n",
    "        data_block['data-tags'] = \"\"\n",
    "    if data.types:\n",
    "        data_block['data-types'] = \", \".join(data.types)\n",
    "    else:\n",
    "        data_block['data-types'] = \"\"\n",
    "    if data.location:\n",
    "        data_block['data-loc'] = \", \".join(data.location)\n",
    "    else:\n",
    "        data_block['data-loc'] = \"\"\n",
    "#     if data.type == 'promo':\n",
    "#         data_block['class'].append('promo')\n",
    "    \n",
    "    # Обработка заголовка\n",
    "    header = s.find(\"h2\")\n",
    "    header.string = data.title\n",
    "    \n",
    "    # Блок с описанием места и времени\n",
    "    time_and_space = s.find(\"p\", {\"class\":\"time_and_space\"})\n",
    "    s.time.string = langs.make_datetime_string(data.date, data.time)\n",
    "    s.time.wrap(s.new_tag('a', attrs={'href':data.event_url}))\n",
    "    if data.reg_url:\n",
    "        time_and_space.append(', ')\n",
    "        reg_url = s.new_tag('a', attrs={'href':data.reg_url})\n",
    "        reg_url.string = 'регистрация'\n",
    "        time_and_space.append(reg_url) \n",
    "    time_and_space.append('.')\n",
    "    \n",
    "    # Блок с темами и докладчиками\n",
    "    themes_and_speakers = s.find(\"p\", {\"class\":\"themes_and_speakers\"})\n",
    "    \n",
    "    if data.themes != ['']:\n",
    "        for theme in data.themes:\n",
    "            if theme:\n",
    "                line = s.new_tag('li')\n",
    "                line.string = theme\n",
    "                s.ul.append(line)\n",
    "    if data.speakers != ['']:\n",
    "        if len(data.speakers) == 1:\n",
    "            themes_and_speakers.append(f'👤 {data.speakers[0]}.')\n",
    "        else:\n",
    "            speakers = [x for x in data.speakers if x]\n",
    "            speakers_str = ', '.join(speakers)\n",
    "            themes_and_speakers.append(f'👥 {speakers_str}.')\n",
    "    if data.themes == [''] and data.speakers != ['']:\n",
    "        s.ul.extract()\n",
    "    if data.themes == [''] and data.speakers == ['']:\n",
    "        s.find(\"p\", {\"class\":\"themes_and_speakers\"}).extract()\n",
    "    \n",
    "    # Блок с описанием мероприятия\n",
    "    description = s.find(\"p\", {\"class\":\"description\"})\n",
    "    description.string = data.description\n",
    "    \n",
    "    # Удаляем комментарии\n",
    "    for element in s(text = lambda text: isinstance(text, Comment)):\n",
    "        element.extract()\n",
    "\n",
    "    return s\n",
    "\n",
    "df['soup'] = df.apply(lambda x: add_info(template, x), axis=1)\n",
    "df['html'] = df['soup'].apply(lambda x: str(x))\n",
    "total = ''.join(df['html'])\n",
    "\n",
    "total += '''<div class=\"filter__msg\" hidden>\n",
    "<p>🕵 К сожалению, для выбранных фильтров пока нет ни одного подходящего мероприятия.\n",
    "Попробуйте выбрать другие или вернитесь завтра – парсер поищет новые.</p></div>'''\n",
    "\n",
    "path_to_html_template = \"../mgio/11ty/_includes/events.njk\"\n",
    "with open(path_to_html_template, 'w', encoding='utf-8') as html_template:\n",
    "    html_template.write(f'{total}')"
   ]
  },
  {
   "cell_type": "markdown",
   "metadata": {},
   "source": [
    "Используем тот же подход для сборки меню фильтров. "
   ]
  },
  {
   "cell_type": "code",
   "execution_count": 22,
   "metadata": {},
   "outputs": [
    {
     "name": "stdout",
     "output_type": "stream",
     "text": [
      "Writing ../../matyushkin.github.io/404/index.html from ./404.html.\n",
      "Writing ../../matyushkin.github.io/README/index.html from ./README.md.\n",
      "Writing ../../matyushkin.github.io/index.html from ./index.html.\n",
      "Writing ../../matyushkin.github.io/cv/index.html from ./cv/index.html.\n",
      "Writing ../../matyushkin.github.io/events/index.html from ./events/index.html.\n",
      "Writing ../../matyushkin.github.io/links/index.html from ./links/index.html.\n",
      "Writing ../../matyushkin.github.io/posts/index.html from ./posts/index.html.\n",
      "Writing ../../matyushkin.github.io/donate/index.html from ./donate/index.html.\n",
      "Writing ../../matyushkin.github.io/spb/index.html from ./spb/index.html.\n",
      "Writing ../../matyushkin.github.io/texts/index.html from ./texts/index.html.\n",
      "Copied 18 files / Wrote 10 files in 0.22 seconds (22.0ms each, v0.11.0)\n"
     ]
    },
    {
     "data": {
      "text/plain": [
       "True"
      ]
     },
     "execution_count": 22,
     "metadata": {},
     "output_type": "execute_result"
    }
   ],
   "source": [
    "import langs\n",
    "\n",
    "all_tags = set(itertools.chain.from_iterable(df.tags))\n",
    "all_types = set(itertools.chain.from_iterable(df.types))\n",
    "all_locs = set(itertools.chain.from_iterable(df.location)) - {''}\n",
    "all_months = langs.month_names_for_time_filters()[1:] + ['Позже', '∞']\n",
    "#all_types = set(itertools.chain.from_iterable(df.type))\n",
    "\n",
    "with open(\"files/event_filter_panel_template.html\") as filter_template:\n",
    "    filter_soup = BeautifulSoup(filter_template.read(), 'html.parser') \n",
    "\n",
    "\n",
    "def filter_item_append(name, value):\n",
    "    s = filter_soup.find('div', {'class':f'filter__container--{name}'}).div\n",
    "    t = filter_soup.new_tag('div')\n",
    "    t['class'] = 'filter__item filter__button'\n",
    "    t.string = value\n",
    "    s.append(t)\n",
    "    \n",
    "\n",
    "for tag in all_tags:\n",
    "    filter_item_append('tag', tag)\n",
    "\n",
    "for type_ in all_types:\n",
    "    filter_item_append('type', type_)\n",
    "\n",
    "for month in all_months:\n",
    "    filter_item_append('month', month)\n",
    "\n",
    "for loc in all_locs:\n",
    "    filter_item_append('loc', loc)\n",
    "\n",
    "    \n",
    "with open(\"../mgio/11ty/_includes/events_filter.njk\", 'w', encoding='utf-8') as html_template:\n",
    "    html_template.write(intro + str(filter_soup))\n",
    "\n",
    "\n",
    "!cp -rp mgio.11ty.events/* ../mgio/11ty/events\n",
    "!cd ../mgio/11ty/; npx eleventy --passthroughall --output=../../matyushkin.github.io\n",
    "!cd ../matyushkin.github.io/; rm -rf 404\n",
    "!cd ../matyushkin.github.io/; rm -rf README\n",
    "\n",
    "\n",
    "# посмотрим, что получилось в браузере\n",
    "import webbrowser\n",
    "url = \"../matyushkin.github.io/events/index.html\"\n",
    "webbrowser.open_new_tab(url)"
   ]
  },
  {
   "cell_type": "code",
   "execution_count": 23,
   "metadata": {
    "Collapsed": "false"
   },
   "outputs": [
    {
     "name": "stdout",
     "output_type": "stream",
     "text": [
      "[master c85242d] Contacs are added at intro\n",
      " 1 file changed, 8 insertions(+), 10 deletions(-)\n",
      "Counting objects: 4, done.\n",
      "Delta compression using up to 8 threads.\n",
      "Compressing objects: 100% (4/4), done.\n",
      "Writing objects: 100% (4/4), 1.36 KiB | 107.00 KiB/s, done.\n",
      "Total 4 (delta 2), reused 0 (delta 0)\n",
      "remote: Resolving deltas: 100% (2/2), completed with 2 local objects.\u001b[K\n",
      "To github.com:matyushkin/matyushkin.github.io.git\n",
      "   2b2d8b2..c85242d  master -> master\n"
     ]
    }
   ],
   "source": [
    "!cd ../matyushkin.github.io/; git add . ; git commit -m \"Contacs are added at intro\"; git push origin master"
   ]
  },
  {
   "cell_type": "code",
   "execution_count": 13,
   "metadata": {},
   "outputs": [
    {
     "data": {
      "text/plain": [
       "True"
      ]
     },
     "execution_count": 13,
     "metadata": {},
     "output_type": "execute_result"
    }
   ],
   "source": [
    "# посмотрим, что получилось в браузере\n",
    "import webbrowser\n",
    "url = \"https://matyushkin.github.io/events/\"\n",
    "webbrowser.open_new_tab(url)"
   ]
  },
  {
   "cell_type": "code",
   "execution_count": null,
   "metadata": {},
   "outputs": [],
   "source": []
  }
 ],
 "metadata": {
  "kernelspec": {
   "display_name": "Python 3",
   "language": "python",
   "name": "python3"
  },
  "language_info": {
   "codemirror_mode": {
    "name": "ipython",
    "version": 3
   },
   "file_extension": ".py",
   "mimetype": "text/x-python",
   "name": "python",
   "nbconvert_exporter": "python",
   "pygments_lexer": "ipython3",
   "version": "3.7.6"
  }
 },
 "nbformat": 4,
 "nbformat_minor": 4
}
