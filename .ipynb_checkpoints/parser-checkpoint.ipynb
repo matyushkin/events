{
 "cells": [
  {
   "cell_type": "markdown",
   "metadata": {},
   "source": [
    "TODO:\n",
    "- Прочитать: https://habr.com/ru/post/349860/#Skobochnye_gruppy_gruppirovka_plyus_kvantifikatory\n",
    "- extract-time можно использовать для того, чтобы указывать интервал времени (от минимального до конечного)\n",
    "- Написать тестирующую функцию для подбора регулярных выражений под определенный ключевой запрос - для поиска тем и спикеров\n",
    "- Для контактов - pop_contacts"
   ]
  },
  {
   "cell_type": "markdown",
   "metadata": {
    "Collapsed": "false",
    "toc-hr-collapsed": true,
    "toc-nb-collapsed": true
   },
   "source": [
    "# 🐅 Парсер\n",
    "\n",
    "Парсинг начинается со страниц, перечисленных в `pages.json`. Файл содержит необходимые сведения о структуре страниц сайта: стартовая страница, селекторы страницы, отвечающие за их описания (могут быть на стартовой `start_url` или внутренних страницах `event_urk`), количество соответствующих элементов. Если для ссылки события пока нет описания в файле `events.json`, в результате парсинга создаётся соответствующий объект. Этот файл используется для генерации карточек мероприятий в HTML, публикуемый на [matyushkin.github.io/events](https://matyushkin.github.io/events/)."
   ]
  },
  {
   "cell_type": "code",
   "execution_count": 1,
   "metadata": {
    "Collapsed": "false"
   },
   "outputs": [
    {
     "name": "stdout",
     "output_type": "stream",
     "text": [
      "Обновляем базу данных...\n",
      "Все необходимые поля имеются у следующих стартовых страниц: \n",
      "https://events.yandex.ru/\n",
      "https://it-events.com/\n",
      "\n",
      "Анализируем стартовую страницу https://events.yandex.ru/\n"
     ]
    },
    {
     "ename": "IndexError",
     "evalue": "list index out of range",
     "output_type": "error",
     "traceback": [
      "\u001b[0;31m---------------------------------------------------------------------------\u001b[0m",
      "\u001b[0;31mIndexError\u001b[0m                                Traceback (most recent call last)",
      "\u001b[0;32m<ipython-input-1-e2f169df1f29>\u001b[0m in \u001b[0;36m<module>\u001b[0;34m\u001b[0m\n\u001b[1;32m     16\u001b[0m \u001b[0;32mfor\u001b[0m \u001b[0mstart_url\u001b[0m \u001b[0;32min\u001b[0m \u001b[0mpages_checked\u001b[0m\u001b[0;34m:\u001b[0m\u001b[0;34m\u001b[0m\u001b[0;34m\u001b[0m\u001b[0m\n\u001b[1;32m     17\u001b[0m     \u001b[0mprint\u001b[0m\u001b[0;34m(\u001b[0m\u001b[0;34mf\"\\nАнализируем стартовую страницу {start_url}\"\u001b[0m\u001b[0;34m)\u001b[0m\u001b[0;34m\u001b[0m\u001b[0;34m\u001b[0m\u001b[0m\n\u001b[0;32m---> 18\u001b[0;31m     \u001b[0mstart_page\u001b[0m \u001b[0;34m=\u001b[0m \u001b[0mStartPage\u001b[0m\u001b[0;34m(\u001b[0m\u001b[0mstart_url\u001b[0m\u001b[0;34m)\u001b[0m\u001b[0;34m\u001b[0m\u001b[0;34m\u001b[0m\u001b[0m\n\u001b[0m\u001b[1;32m     19\u001b[0m     \u001b[0mactual\u001b[0m \u001b[0;34m=\u001b[0m \u001b[0mstart_page\u001b[0m\u001b[0;34m.\u001b[0m\u001b[0mactual_events\u001b[0m\u001b[0;34m\u001b[0m\u001b[0;34m\u001b[0m\u001b[0m\n\u001b[1;32m     20\u001b[0m     \u001b[0;32mfor\u001b[0m \u001b[0mi\u001b[0m\u001b[0;34m,\u001b[0m \u001b[0mevent_url\u001b[0m \u001b[0;32min\u001b[0m \u001b[0menumerate\u001b[0m\u001b[0;34m(\u001b[0m\u001b[0mactual\u001b[0m\u001b[0;34m,\u001b[0m \u001b[0;36m1\u001b[0m\u001b[0;34m)\u001b[0m\u001b[0;34m:\u001b[0m\u001b[0;34m\u001b[0m\u001b[0;34m\u001b[0m\u001b[0m\n",
      "\u001b[0;32m~/Yandex.Disk/GitHub/events/parser.py\u001b[0m in \u001b[0;36m__init__\u001b[0;34m(self, start_url)\u001b[0m\n\u001b[1;32m     24\u001b[0m         \u001b[0mself\u001b[0m\u001b[0;34m.\u001b[0m\u001b[0mdata\u001b[0m\u001b[0;34m,\u001b[0m \u001b[0mself\u001b[0m\u001b[0;34m.\u001b[0m\u001b[0mevent_lists\u001b[0m\u001b[0;34m,\u001b[0m \u001b[0mself\u001b[0m\u001b[0;34m.\u001b[0m\u001b[0mevents\u001b[0m \u001b[0;34m=\u001b[0m \u001b[0;34m{\u001b[0m\u001b[0;34m}\u001b[0m\u001b[0;34m,\u001b[0m \u001b[0;34m{\u001b[0m\u001b[0;34m}\u001b[0m\u001b[0;34m,\u001b[0m \u001b[0;34m{\u001b[0m\u001b[0;34m}\u001b[0m\u001b[0;34m\u001b[0m\u001b[0;34m\u001b[0m\u001b[0m\n\u001b[1;32m     25\u001b[0m         \u001b[0mself\u001b[0m\u001b[0;34m.\u001b[0m\u001b[0mdata\u001b[0m\u001b[0;34m[\u001b[0m\u001b[0;34m'start_url'\u001b[0m\u001b[0;34m]\u001b[0m \u001b[0;34m=\u001b[0m \u001b[0mstart_url\u001b[0m\u001b[0;34m\u001b[0m\u001b[0;34m\u001b[0m\u001b[0m\n\u001b[0;32m---> 26\u001b[0;31m         \u001b[0mself\u001b[0m\u001b[0;34m.\u001b[0m\u001b[0mdata\u001b[0m\u001b[0;34m[\u001b[0m\u001b[0;34m'soup'\u001b[0m\u001b[0;34m]\u001b[0m \u001b[0;34m=\u001b[0m \u001b[0msoups\u001b[0m\u001b[0;34m.\u001b[0m\u001b[0mget_soup\u001b[0m\u001b[0;34m(\u001b[0m\u001b[0mstart_url\u001b[0m\u001b[0;34m,\u001b[0m \u001b[0mstart_url\u001b[0m\u001b[0;34m)\u001b[0m\u001b[0;34m\u001b[0m\u001b[0;34m\u001b[0m\u001b[0m\n\u001b[0m\u001b[1;32m     27\u001b[0m         \u001b[0mself\u001b[0m\u001b[0;34m.\u001b[0m\u001b[0mfields\u001b[0m \u001b[0;34m=\u001b[0m \u001b[0mfiles\u001b[0m\u001b[0;34m.\u001b[0m\u001b[0mfields_order\u001b[0m\u001b[0;34m(\u001b[0m\u001b[0mstart_url\u001b[0m\u001b[0;34m)\u001b[0m\u001b[0;34m\u001b[0m\u001b[0;34m\u001b[0m\u001b[0m\n\u001b[1;32m     28\u001b[0m         \u001b[0;32mfor\u001b[0m \u001b[0mfield\u001b[0m \u001b[0;32min\u001b[0m \u001b[0mself\u001b[0m\u001b[0;34m.\u001b[0m\u001b[0mfields\u001b[0m\u001b[0;34m[\u001b[0m\u001b[0;34m'start'\u001b[0m\u001b[0;34m]\u001b[0m\u001b[0;34m:\u001b[0m\u001b[0;34m\u001b[0m\u001b[0;34m\u001b[0m\u001b[0m\n",
      "\u001b[0;32m~/Yandex.Disk/GitHub/events/soups.py\u001b[0m in \u001b[0;36mget_soup\u001b[0;34m(start_url, url, force)\u001b[0m\n\u001b[1;32m    141\u001b[0m \u001b[0;34m\u001b[0m\u001b[0m\n\u001b[1;32m    142\u001b[0m \u001b[0;32mdef\u001b[0m \u001b[0mget_soup\u001b[0m\u001b[0;34m(\u001b[0m\u001b[0mstart_url\u001b[0m\u001b[0;34m,\u001b[0m \u001b[0murl\u001b[0m\u001b[0;34m,\u001b[0m \u001b[0mforce\u001b[0m\u001b[0;34m=\u001b[0m\u001b[0mFORCE\u001b[0m\u001b[0;34m)\u001b[0m\u001b[0;34m:\u001b[0m\u001b[0;34m\u001b[0m\u001b[0;34m\u001b[0m\u001b[0m\n\u001b[0;32m--> 143\u001b[0;31m     \u001b[0mpage\u001b[0m \u001b[0;34m=\u001b[0m \u001b[0mget_page\u001b[0m\u001b[0;34m(\u001b[0m\u001b[0mstart_url\u001b[0m\u001b[0;34m,\u001b[0m \u001b[0murl\u001b[0m\u001b[0;34m,\u001b[0m \u001b[0mforce\u001b[0m\u001b[0;34m)\u001b[0m\u001b[0;34m\u001b[0m\u001b[0;34m\u001b[0m\u001b[0m\n\u001b[0m\u001b[1;32m    144\u001b[0m     \u001b[0msoup\u001b[0m \u001b[0;34m=\u001b[0m \u001b[0mBeautifulSoup\u001b[0m\u001b[0;34m(\u001b[0m\u001b[0mpage\u001b[0m\u001b[0;34m,\u001b[0m \u001b[0;34m'html.parser'\u001b[0m\u001b[0;34m)\u001b[0m\u001b[0;34m\u001b[0m\u001b[0;34m\u001b[0m\u001b[0m\n\u001b[1;32m    145\u001b[0m     \u001b[0;32mreturn\u001b[0m \u001b[0msoup\u001b[0m\u001b[0;34m\u001b[0m\u001b[0;34m\u001b[0m\u001b[0m\n",
      "\u001b[0;32m~/Yandex.Disk/GitHub/events/soups.py\u001b[0m in \u001b[0;36mget_page\u001b[0;34m(start_url, url, force)\u001b[0m\n\u001b[1;32m    116\u001b[0m             \u001b[0mfooter_clicks\u001b[0m \u001b[0;34m=\u001b[0m \u001b[0minfo\u001b[0m\u001b[0;34m.\u001b[0m\u001b[0mget\u001b[0m\u001b[0;34m(\u001b[0m\u001b[0;34m'footer_clicks'\u001b[0m\u001b[0;34m,\u001b[0m \u001b[0;36m1\u001b[0m\u001b[0;34m)\u001b[0m\u001b[0;34m\u001b[0m\u001b[0;34m\u001b[0m\u001b[0m\n\u001b[1;32m    117\u001b[0m             \u001b[0mselector\u001b[0m \u001b[0;34m=\u001b[0m \u001b[0minfo\u001b[0m\u001b[0;34m.\u001b[0m\u001b[0mget\u001b[0m\u001b[0;34m(\u001b[0m\u001b[0;34m'footer_selector'\u001b[0m\u001b[0;34m)\u001b[0m\u001b[0;34m\u001b[0m\u001b[0;34m\u001b[0m\u001b[0m\n\u001b[0;32m--> 118\u001b[0;31m             \u001b[0mpage\u001b[0m \u001b[0;34m=\u001b[0m \u001b[0mfooter_load\u001b[0m\u001b[0;34m(\u001b[0m\u001b[0murl\u001b[0m\u001b[0;34m,\u001b[0m \u001b[0mfooter_clicks\u001b[0m\u001b[0;34m,\u001b[0m \u001b[0mselector\u001b[0m\u001b[0;34m)\u001b[0m\u001b[0;34m\u001b[0m\u001b[0;34m\u001b[0m\u001b[0m\n\u001b[0m\u001b[1;32m    119\u001b[0m         \u001b[0;32melif\u001b[0m \u001b[0mfiles\u001b[0m\u001b[0;34m.\u001b[0m\u001b[0mpages_info\u001b[0m\u001b[0;34m[\u001b[0m\u001b[0mstart_url\u001b[0m\u001b[0;34m]\u001b[0m\u001b[0;34m[\u001b[0m\u001b[0;34m'load'\u001b[0m\u001b[0;34m]\u001b[0m \u001b[0;34m==\u001b[0m \u001b[0;34m'multiple'\u001b[0m\u001b[0;34m:\u001b[0m\u001b[0;34m\u001b[0m\u001b[0;34m\u001b[0m\u001b[0m\n\u001b[1;32m    120\u001b[0m             \u001b[0mroot\u001b[0m \u001b[0;34m=\u001b[0m \u001b[0minfo\u001b[0m\u001b[0;34m.\u001b[0m\u001b[0mget\u001b[0m\u001b[0;34m(\u001b[0m\u001b[0;34m\"multiple_root\"\u001b[0m\u001b[0;34m)\u001b[0m\u001b[0;34m\u001b[0m\u001b[0;34m\u001b[0m\u001b[0m\n",
      "\u001b[0;32m~/Yandex.Disk/GitHub/events/soups.py\u001b[0m in \u001b[0;36mfooter_load\u001b[0;34m(url, num, selector)\u001b[0m\n\u001b[1;32m    102\u001b[0m     \u001b[0mdriver\u001b[0m\u001b[0;34m.\u001b[0m\u001b[0mget\u001b[0m\u001b[0;34m(\u001b[0m\u001b[0murl\u001b[0m\u001b[0;34m)\u001b[0m\u001b[0;34m\u001b[0m\u001b[0;34m\u001b[0m\u001b[0m\n\u001b[1;32m    103\u001b[0m     \u001b[0;32mfor\u001b[0m \u001b[0mi\u001b[0m \u001b[0;32min\u001b[0m \u001b[0mrange\u001b[0m\u001b[0;34m(\u001b[0m\u001b[0mnum\u001b[0m\u001b[0;34m)\u001b[0m\u001b[0;34m:\u001b[0m\u001b[0;34m\u001b[0m\u001b[0;34m\u001b[0m\u001b[0m\n\u001b[0;32m--> 104\u001b[0;31m         \u001b[0mfooter\u001b[0m \u001b[0;34m=\u001b[0m \u001b[0mdriver\u001b[0m\u001b[0;34m.\u001b[0m\u001b[0mfind_elements_by_class_name\u001b[0m\u001b[0;34m(\u001b[0m\u001b[0mselector\u001b[0m\u001b[0;34m)\u001b[0m\u001b[0;34m[\u001b[0m\u001b[0;34m-\u001b[0m\u001b[0;36m1\u001b[0m\u001b[0;34m]\u001b[0m\u001b[0;34m\u001b[0m\u001b[0;34m\u001b[0m\u001b[0m\n\u001b[0m\u001b[1;32m    105\u001b[0m         \u001b[0mfooter\u001b[0m\u001b[0;34m.\u001b[0m\u001b[0mclick\u001b[0m\u001b[0;34m(\u001b[0m\u001b[0;34m)\u001b[0m\u001b[0;34m\u001b[0m\u001b[0;34m\u001b[0m\u001b[0m\n\u001b[1;32m    106\u001b[0m     \u001b[0mhtml_from_page\u001b[0m \u001b[0;34m=\u001b[0m \u001b[0mdriver\u001b[0m\u001b[0;34m.\u001b[0m\u001b[0mpage_source\u001b[0m\u001b[0;34m\u001b[0m\u001b[0;34m\u001b[0m\u001b[0m\n",
      "\u001b[0;31mIndexError\u001b[0m: list index out of range"
     ]
    }
   ],
   "source": [
    "from parser import *\n",
    "\n",
    "def reload_modules():\n",
    "    '''Инструмент тестирования и разработки:\n",
    "    reload всех уже импортированных модулей'''\n",
    "    modulenames = set(sys.modules) & set(globals())\n",
    "    allmodules = [sys.modules[name] for name in modulenames]\n",
    "    for module in allmodules:\n",
    "        importlib.reload(module)\n",
    "\n",
    "pages_checked = files.pages_checked()\n",
    "print('Все необходимые поля имеются у следующих стартовых страниц: ')\n",
    "for page in pages_checked:\n",
    "    print(page)\n",
    "                \n",
    "for start_url in pages_checked:\n",
    "    print(f\"\\nАнализируем стартовую страницу {start_url}\")\n",
    "    start_page = StartPage(start_url)\n",
    "    actual = start_page.actual_events\n",
    "    for i, event_url in enumerate(actual, 1):\n",
    "        print(f'{i}. Обработка {event_url}')\n",
    "        event = EventPage(event_url, start_page)\n",
    "        del event.data['soup']\n",
    "        files.events[event_url] = event.data"
   ]
  },
  {
   "cell_type": "code",
   "execution_count": 3,
   "metadata": {
    "Collapsed": "false"
   },
   "outputs": [],
   "source": [
    "with open('files/events.json', 'w', encoding='utf-8') as events_file:\n",
    "    json.dump(files.events, events_file, ensure_ascii=False)"
   ]
  },
  {
   "cell_type": "markdown",
   "metadata": {
    "Collapsed": "false"
   },
   "source": [
    "# Анализируем и дополняем полученную информацию\n",
    "\n",
    "Предварительно, если среди мероприятий имеются мероприятия, не обрабатываемые парсером (`events_special`) или рекламируемые (`events_promo`), обрабатываем их отдельно. Для этого помечаем их в датафрейме особым образом."
   ]
  },
  {
   "cell_type": "code",
   "execution_count": 4,
   "metadata": {},
   "outputs": [
    {
     "name": "stdout",
     "output_type": "stream",
     "text": [
      "Обновляем базу данных...\n"
     ]
    }
   ],
   "source": [
    "reload_modules()\n",
    "df = pd.DataFrame.from_dict(files.events, orient='index')\n",
    "df['description'] = df['description'].apply(lambda x: x, 'html.parser')"
   ]
  },
  {
   "cell_type": "code",
   "execution_count": 5,
   "metadata": {},
   "outputs": [],
   "source": [
    "# Сразу выкидываем мероприятия, которые не хотим видеть\n",
    "df.drop(files.bad['urls'])\n",
    "for theme in files.bad['themes']:\n",
    "    df = df[~df.title.str.contains(theme)]\n",
    "\n",
    "# Соортируем по дате, оставляем актуальные\n",
    "df = df.sort_values(by=['date'])\n",
    "df = df[df['date'] >= handlers.current_date.isoformat()]   #! добавить проверку на время\n",
    "\n",
    "\n",
    "#df['type'] = df.index.map(promo_and_special())\n",
    "\n",
    "# Вписываем теги и типы мероприятий по картам тегов и типов\n",
    "df['tags'] = df.apply(lambda x: handlers.find_spec(x, 'tags'), axis=1)\n",
    "df['types'] = df.apply(lambda x: handlers.find_spec(x, 'event_types'), axis=1)\n",
    "\n",
    "\n",
    "# Для фильтрации мероприятий по месяцам и добавления меток \"Позже\" и \"∞\"\n",
    "df['month'] = df.date.apply(langs.date_to_month)"
   ]
  },
  {
   "cell_type": "code",
   "execution_count": 6,
   "metadata": {
    "Collapsed": "false"
   },
   "outputs": [],
   "source": [
    "# def promo_and_special():\n",
    "#     event_types = 'promo', 'special'\n",
    "#     d = {}\n",
    "#     for event_type in event_types:\n",
    "#         event_urls = list(eval(f'files.events_{event_type}.keys()'))\n",
    "#         for event_url in event_urls:\n",
    "#             d[event_url] = event_type\n",
    "#     return d\n",
    "\n",
    "\n",
    "def fill_empty_cells():\n",
    "    def emptyfill(x, t):\n",
    "        try:\n",
    "            if math.isnan(x):\n",
    "                if t == str:\n",
    "                    return ''\n",
    "                elif t == list:\n",
    "                    return ['']\n",
    "                else:\n",
    "                    return set()\n",
    "            else:\n",
    "                return x\n",
    "        except:\n",
    "            return x\n",
    "\n",
    "    for col in df:\n",
    "        try:\n",
    "            t = type(df[col][df[col].notnull()][0])\n",
    "            df[col] = df[col].apply(lambda x: emptyfill(x, t))\n",
    "        except IndexError:\n",
    "            pass\n",
    "        \n",
    "fill_empty_cells()"
   ]
  },
  {
   "cell_type": "markdown",
   "metadata": {},
   "source": [
    "https://regex101.com/"
   ]
  },
  {
   "cell_type": "code",
   "execution_count": 7,
   "metadata": {},
   "outputs": [],
   "source": [
    "_ = df.description.apply(lambda x: langs.soup_to_text(BeautifulSoup(x, 'html.parser')))"
   ]
  },
  {
   "cell_type": "code",
   "execution_count": 8,
   "metadata": {},
   "outputs": [],
   "source": [
    "# Попытаемся найти дополнительно спикеров из описания докладов\n",
    "df['description'] = _.apply(lambda x: x['text'])\n",
    "df['themes'] += _.apply(lambda x: x['themes'])\n",
    "df['speakers'] += _.apply(lambda x: x['speakers'])"
   ]
  },
  {
   "cell_type": "code",
   "execution_count": 9,
   "metadata": {},
   "outputs": [],
   "source": [
    "# В строках устраним лишние пробелы\n",
    "df.description = df.description.apply(lambda x: \" \".join(x.split()))\n",
    "\n",
    "# Удалим упоминания стран из мест\n",
    "df.location = df.location.apply(lambda x: {re.sub(',? (?:Россия|Украина|Беларусь)', '', x)})"
   ]
  },
  {
   "cell_type": "code",
   "execution_count": 10,
   "metadata": {},
   "outputs": [],
   "source": [
    "# Соединяем онлайн-статус и локацию\n",
    "df.location = df.apply(lambda x: x.location| {x.online_status}, 1).apply(lambda x: x-{'Offline', ''})"
   ]
  },
  {
   "cell_type": "code",
   "execution_count": 33,
   "metadata": {},
   "outputs": [
    {
     "data": {
      "text/plain": [
       "array(['65 000 ₽', '0', '17 500 ₽', '6 000 ₽', 'от 4 800 ₽', '42 000 ₽',\n",
       "       '490 ₽', '26 500 - 48 500 ₽', '299 - 550 ₽', '$435', '39 000 ₽',\n",
       "       '50$', 'от 65 евро', '500 - 675$', '4 000 - 25 000 ₽', '46 000 ₽',\n",
       "       '1 500 - 6 500 ₴', '2 700 - 8 000 ₴', '60 000 - 65 000 ₽',\n",
       "       '9 900 - 15 900 ₽', 'уточняйте у организатора', '340 €',\n",
       "       '45 500 ₽', '70 000 - 75 000 ₽', '4 500 - 40 000 ₽',\n",
       "       '14 000 - 34 000 ₽', '500 - 8 000 ₴', '250$', '10 000 ₽',\n",
       "       '10 000 - 26 000 ₽', '8 500 - 47 000 ₽', '20 250 - 157 500 ₽',\n",
       "       '21 000 - 94 500 ₽', '8 000 - 14 000 ₽'], dtype=object)"
      ]
     },
     "execution_count": 33,
     "metadata": {},
     "output_type": "execute_result"
    }
   ],
   "source": [
    "import re\n",
    "\n",
    "df1 = df.price.apply(lambda x: re.sub('Стоимость участия:[\\n\\s]*', '', x))\n",
    "df1 = df1.apply(lambda x: re.sub('\\s*(?:руб.|RUB|rub)', ' ₽', x))\n",
    "df1 = df1.apply(lambda x: re.sub('\\s*(?:EURO)', ' €', x))\n",
    "df1 = df1.apply(lambda x: re.sub('\\s*(?:UAH|грн.)', ' ₴', x))\n",
    "\n",
    "df1.unique()"
   ]
  },
  {
   "cell_type": "markdown",
   "metadata": {
    "Collapsed": "false"
   },
   "source": [
    "# Собираем HTML-страницу и деплоим проект 💃"
   ]
  },
  {
   "cell_type": "markdown",
   "metadata": {},
   "source": [
    "Сформируем блок вступления. Определим имеющиеся страницы сбора, общее количество выводимых мероприятий, даты."
   ]
  },
  {
   "cell_type": "code",
   "execution_count": 99,
   "metadata": {},
   "outputs": [
    {
     "name": "stdout",
     "output_type": "stream",
     "text": [
      "<section><p>На этой странице приведен список IT-мероприятий, собранных <a href=\"https://github.com/matyushkin/events\">специально разработанным парсером</a>. Парсер считывает информацию со страниц мероприятий <a href=\"https://events.yandex.ru/\">Яндекса</a> и <a href=\"https://it-events.com/\">IT-Events</a>. Сегодня он собрал 106 событий с 15 июля по 19 декабря 2020 года. Если вы хотите добавить свой ресурс, мои контакты расположены в конце страницы.</p><p>Чтобы найти интересующее мероприятие, воспользуйтесь панелью фильтров.</p></section>\n"
     ]
    }
   ],
   "source": [
    "reload_modules()\n",
    "import pymorphy2\n",
    "import datetime\n",
    "morph = pymorphy2.MorphAnalyzer()\n",
    "m = morph.parse('событие')[0]\n",
    "\n",
    "n = df.shape[0]\n",
    "github_events_url = \"https://github.com/matyushkin/events\"\n",
    "\n",
    "intro = f\"\"\"<section><p>На этой странице приведен список IT-мероприятий, \\\n",
    "собранных <a href=\"{github_events_url}\">специально разработанным парсером</a>. \\\n",
    "Парсер считывает информацию со страниц мероприятий \\\n",
    "{langs.string_of_page_checked_urls(pages_checked)}. \\\n",
    "Сегодня он собрал {n} {m.make_agree_with_number(n).word} \\\n",
    "{langs.date_interval_string(df.date[0], df.date[n-1])}. \\\n",
    "Если вы хотите добавить свой ресурс, \\\n",
    "мои контакты расположены в конце страницы.</p>\\\n",
    "<p>Чтобы найти интересующее мероприятие, \\\n",
    "воспользуйтесь панелью фильтров.</p>\\\n",
    "</section>\"\"\"\n",
    "\n",
    "print(intro)"
   ]
  },
  {
   "cell_type": "markdown",
   "metadata": {
    "Collapsed": "false"
   },
   "source": [
    "Для сборки страницы используем BeautifulSoup. Страницу собираем, объединяя soup-объекты в один."
   ]
  },
  {
   "cell_type": "code",
   "execution_count": 100,
   "metadata": {
    "Collapsed": "false"
   },
   "outputs": [],
   "source": [
    "from bs4 import BeautifulSoup, Comment\n",
    "from itertools import zip_longest\n",
    "import copy\n",
    "\n",
    "with open(\"files/event_card_template.html\") as template:\n",
    "    template = BeautifulSoup(template.read(), 'html.parser')\n",
    "\n",
    "\n",
    "def add_info(template, data):\n",
    "    s = copy.copy(template)\n",
    "    \n",
    "    # Информационный блок\n",
    "    data_block = s.find(\"div\", {\"class\":\"event\"})\n",
    "    companies = [*data.organizers, *data.speakers_companies]\n",
    "    companies = \" \".join(list(set(companies))).strip()\n",
    "    data_block['data-companies'] = companies\n",
    "    \n",
    "    data_block['data-month'] = data.month\n",
    "    data_block['data-price'] = data.price\n",
    "    data_block['data-online'] = data.online_status\n",
    "    if data.tags:\n",
    "        data_block['data-tags'] = \", \".join(data.tags)\n",
    "    else:\n",
    "        data_block['data-tags'] = \"\"\n",
    "    if data.types:\n",
    "        data_block['data-types'] = \", \".join(data.types)\n",
    "    else:\n",
    "        data_block['data-types'] = \"\"\n",
    "    if data.location:\n",
    "        data_block['data-loc'] = \", \".join(data.location)\n",
    "    else:\n",
    "        data_block['data-loc'] = \"\"\n",
    "#     if data.type == 'promo':\n",
    "#         data_block['class'].append('promo')\n",
    "    \n",
    "    # Обработка заголовка\n",
    "    header = s.find(\"h2\")\n",
    "    header.string = data.title\n",
    "    \n",
    "    # Блок с описанием места и времени\n",
    "    time_and_space = s.find(\"p\", {\"class\":\"time_and_space\"})\n",
    "    s.time.string = langs.make_datetime_string(data.date, data.time)\n",
    "    s.time.wrap(s.new_tag('a', attrs={'href':data.event_url}))\n",
    "    if data.reg_url:\n",
    "        time_and_space.append(', ')\n",
    "        reg_url = s.new_tag('a', attrs={'href':data.reg_url})\n",
    "        reg_url.string = 'регистрация'\n",
    "        time_and_space.append(reg_url) \n",
    "    time_and_space.append('.')\n",
    "    \n",
    "    # Блок с темами и докладчиками\n",
    "    themes_and_speakers = s.find(\"p\", {\"class\":\"themes_and_speakers\"})\n",
    "    \n",
    "    if data.themes != ['']:\n",
    "        for theme in data.themes:\n",
    "            if theme:\n",
    "                line = s.new_tag('li')\n",
    "                line.string = theme\n",
    "                s.ul.append(line)\n",
    "    if data.speakers != ['']:\n",
    "        if len(data.speakers) == 1:\n",
    "            themes_and_speakers.append(f'👤 {data.speakers[0]}.')\n",
    "        else:\n",
    "            speakers = [x for x in data.speakers if x]\n",
    "            speakers_str = ', '.join(speakers)\n",
    "            themes_and_speakers.append(f'👥 {speakers_str}.')\n",
    "    if data.themes == [''] and data.speakers != ['']:\n",
    "        s.ul.extract()\n",
    "    if data.themes == [''] and data.speakers == ['']:\n",
    "        s.find(\"p\", {\"class\":\"themes_and_speakers\"}).extract()\n",
    "    \n",
    "    # Блок с описанием мероприятия\n",
    "    description = s.find(\"p\", {\"class\":\"description\"})\n",
    "    description.string = data.description\n",
    "    \n",
    "    # Удаляем комментарии\n",
    "    for element in s(text = lambda text: isinstance(text, Comment)):\n",
    "        element.extract()\n",
    "\n",
    "    return s\n",
    "\n",
    "df['soup'] = df.apply(lambda x: add_info(template, x), axis=1)\n",
    "df['html'] = df['soup'].apply(lambda x: str(x))\n",
    "total = ''.join(df['html'])\n",
    "\n",
    "total += '''<div class=\"filter__msg\" hidden>\n",
    "<p>🕵 К сожалению, для выбранных фильтров пока нет ни одного подходящего мероприятия.\n",
    "Попробуйте выбрать другие или вернитесь завтра – парсер поищет новые.</p></div>'''\n",
    "\n",
    "path_to_html_template = \"../mgio/11ty/_includes/events.njk\"\n",
    "with open(path_to_html_template, 'w', encoding='utf-8') as html_template:\n",
    "    html_template.write(f'{total}')"
   ]
  },
  {
   "cell_type": "markdown",
   "metadata": {},
   "source": [
    "Используем тот же подход для сборки меню фильтров. "
   ]
  },
  {
   "cell_type": "code",
   "execution_count": 101,
   "metadata": {},
   "outputs": [
    {
     "name": "stdout",
     "output_type": "stream",
     "text": [
      "Writing ../../matyushkin.github.io/404/index.html from ./404.html.\n",
      "Writing ../../matyushkin.github.io/README/index.html from ./README.md.\n",
      "Writing ../../matyushkin.github.io/index.html from ./index.html.\n",
      "Writing ../../matyushkin.github.io/cv/index.html from ./cv/index.html.\n",
      "Writing ../../matyushkin.github.io/events/index.html from ./events/index.html.\n",
      "Writing ../../matyushkin.github.io/donate/index.html from ./donate/index.html.\n",
      "Writing ../../matyushkin.github.io/links/index.html from ./links/index.html.\n",
      "Writing ../../matyushkin.github.io/spb/index.html from ./spb/index.html.\n",
      "Writing ../../matyushkin.github.io/posts/index.html from ./posts/index.html.\n",
      "Writing ../../matyushkin.github.io/texts/index.html from ./texts/index.html.\n",
      "Copied 18 files / Wrote 10 files in 0.24 seconds (24.0ms each, v0.11.0)\n"
     ]
    },
    {
     "data": {
      "text/plain": [
       "True"
      ]
     },
     "execution_count": 101,
     "metadata": {},
     "output_type": "execute_result"
    }
   ],
   "source": [
    "import langs\n",
    "\n",
    "all_tags = set(itertools.chain.from_iterable(df.tags))\n",
    "all_types = set(itertools.chain.from_iterable(df.types))\n",
    "all_locs = set(itertools.chain.from_iterable(df.location)) - {''}\n",
    "all_months = langs.month_names_for_time_filters()[1:] + ['Позже', '∞']\n",
    "#all_types = set(itertools.chain.from_iterable(df.type))\n",
    "\n",
    "with open(\"files/event_filter_panel_template.html\") as filter_template:\n",
    "    filter_soup = BeautifulSoup(filter_template.read(), 'html.parser') \n",
    "\n",
    "\n",
    "def filter_item_append(name, value):\n",
    "    s = filter_soup.find('div', {'class':f'filter__container--{name}'}).div\n",
    "    t = filter_soup.new_tag('div')\n",
    "    t['class'] = 'filter__item filter__button'\n",
    "    t.string = value\n",
    "    s.append(t)\n",
    "    \n",
    "\n",
    "for tag in all_tags:\n",
    "    filter_item_append('tag', tag)\n",
    "\n",
    "for type_ in all_types:\n",
    "    filter_item_append('type', type_)\n",
    "\n",
    "for month in all_months:\n",
    "    filter_item_append('month', month)\n",
    "\n",
    "for loc in all_locs:\n",
    "    filter_item_append('loc', loc)\n",
    "\n",
    "    \n",
    "with open(\"../mgio/11ty/_includes/events_filter.njk\", 'w', encoding='utf-8') as html_template:\n",
    "    html_template.write(intro + str(filter_soup))\n",
    "\n",
    "\n",
    "!cp -rp mgio.11ty.events/* ../mgio/11ty/events\n",
    "!cd ../mgio/11ty/; npx eleventy --passthroughall --output=../../matyushkin.github.io\n",
    "!cd ../matyushkin.github.io/; rm -rf 404\n",
    "!cd ../matyushkin.github.io/; rm -rf README\n",
    "\n",
    "\n",
    "# посмотрим, что получилось в браузере\n",
    "import webbrowser\n",
    "url = \"../matyushkin.github.io/events/index.html\"\n",
    "webbrowser.open_new_tab(url)"
   ]
  },
  {
   "cell_type": "code",
   "execution_count": 102,
   "metadata": {
    "Collapsed": "false"
   },
   "outputs": [
    {
     "name": "stdout",
     "output_type": "stream",
     "text": [
      "[master 2b2d8b2] New event types are added\n",
      " 1 file changed, 10 insertions(+), 11 deletions(-)\n",
      "Counting objects: 4, done.\n",
      "Delta compression using up to 8 threads.\n",
      "Compressing objects: 100% (4/4), done.\n",
      "Writing objects: 100% (4/4), 1.29 KiB | 87.00 KiB/s, done.\n",
      "Total 4 (delta 2), reused 0 (delta 0)\n",
      "remote: Resolving deltas: 100% (2/2), completed with 2 local objects.\u001b[K\n",
      "To github.com:matyushkin/matyushkin.github.io.git\n",
      "   06343c2..2b2d8b2  master -> master\n"
     ]
    }
   ],
   "source": [
    "!cd ../matyushkin.github.io/; git add . ; git commit -m \"New event types are added\"; git push origin master"
   ]
  },
  {
   "cell_type": "code",
   "execution_count": 13,
   "metadata": {},
   "outputs": [
    {
     "data": {
      "text/plain": [
       "True"
      ]
     },
     "execution_count": 13,
     "metadata": {},
     "output_type": "execute_result"
    }
   ],
   "source": [
    "# посмотрим, что получилось в браузере\n",
    "import webbrowser\n",
    "url = \"https://matyushkin.github.io/events/\"\n",
    "webbrowser.open_new_tab(url)"
   ]
  },
  {
   "cell_type": "code",
   "execution_count": null,
   "metadata": {},
   "outputs": [],
   "source": []
  }
 ],
 "metadata": {
  "kernelspec": {
   "display_name": "Python 3",
   "language": "python",
   "name": "python3"
  },
  "language_info": {
   "codemirror_mode": {
    "name": "ipython",
    "version": 3
   },
   "file_extension": ".py",
   "mimetype": "text/x-python",
   "name": "python",
   "nbconvert_exporter": "python",
   "pygments_lexer": "ipython3",
   "version": "3.7.6"
  }
 },
 "nbformat": 4,
 "nbformat_minor": 4
}
