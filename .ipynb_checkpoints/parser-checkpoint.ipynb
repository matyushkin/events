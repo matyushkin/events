{
 "cells": [
  {
   "cell_type": "markdown",
   "metadata": {
    "Collapsed": "false",
    "toc-hr-collapsed": true,
    "toc-nb-collapsed": true
   },
   "source": [
    "# 🕺 Стратегия\n",
    "Сначала проверяются главные («стартовые») страницы, описанные в файле `pages.json`. Далее найденные на них ссылки на внутренние страницы мероприятий. Результаты записываются в файл `events.json`, который далее используется для генерации карточек мероприятий.\n",
    "\n",
    "# TODO:\n",
    "- В первую очередь: если о мероприятии была вся необходимая информация в файле - сделать отдельный флаг force для обновления - запускать с ним только однократно в начале дня.\n",
    "- Поправить обработчик времени - в паре мест время перестало определяться\n",
    "- Обработчик ошибок соединения (если нет соединения - подождать)\n",
    "- Ссылки на почту оформлять через `mailto`\n",
    "- В структуру хэндлеров более логично передавать текущую структуру данных, а не объект, имя - так больше информации для анализа\n",
    "- Добавить другую хорошо оформленную стартовую страницу\n",
    "- Сделать очеловеченный вариант функции представления даты\n",
    "- Добавить обработку тегов\n",
    "- Вместо set правильный отбор тем\n",
    "- Функцию add_tag логично превратить в стандартный метод класса EventCard\n",
    "- Записывать дату в качестве свойства обновления, если строка не равна дате, то забирать информацию заново\n",
    "- Добавлять utm-метки или аналоги (как Yandex-дзен), которые будут отображаться в метриках сайтов-приемников\n",
    "- Добавить блок кнопок для возможности поделиться по аналогии с Яндекс\n",
    "- Для хорошего метаописания имеет смысл сделать Counter по общему содержанию страниц с лемматизацией результата. \n",
    "- For hand-written content: update of events may overwrite content\n",
    "- Load `pages.json` - information about start wepbages: `name`, `url`, `func`\n",
    "- Load `events.json` - information about current events:\n",
    "- Check that events on the main pages are displayed in `events.json`\n",
    "- If the event is not in the file, we need to add basic information about it on the second stage\n",
    "- Past events are transfered to `past_events.json`\n",
    "- On the next stage if any information is missing, we need to supplement it by going to specific url and parse the page\n",
    "- Докладчик, который отвечает за вводный доклад (\"вступительное слово\" и т.п.) -- куратор"
   ]
  },
  {
   "cell_type": "code",
   "execution_count": null,
   "metadata": {},
   "outputs": [],
   "source": []
  },
  {
   "cell_type": "code",
   "execution_count": null,
   "metadata": {},
   "outputs": [],
   "source": []
  },
  {
   "cell_type": "code",
   "execution_count": null,
   "metadata": {},
   "outputs": [],
   "source": []
  },
  {
   "cell_type": "code",
   "execution_count": null,
   "metadata": {
    "Collapsed": "false"
   },
   "outputs": [],
   "source": []
  },
  {
   "cell_type": "code",
   "execution_count": 3,
   "metadata": {
    "Collapsed": "false"
   },
   "outputs": [
    {
     "name": "stdout",
     "output_type": "stream",
     "text": [
      "module 'handlers' has no attribute 'description'\n",
      "module 'handlers' has no attribute 'speakers'\n",
      "module 'handlers' has no attribute 'price'\n",
      "module 'handlers' has no attribute 'speakers_companies'\n",
      "module 'handlers' has no attribute 'themes'\n",
      "module 'handlers' has no attribute 'organizers'\n",
      "module 'handlers' has no attribute 'location'\n",
      "module 'handlers' has no attribute 'description'\n",
      "module 'handlers' has no attribute 'speakers'\n",
      "module 'handlers' has no attribute 'price'\n",
      "module 'handlers' has no attribute 'speakers_companies'\n",
      "module 'handlers' has no attribute 'themes'\n",
      "module 'handlers' has no attribute 'organizers'\n",
      "module 'handlers' has no attribute 'location'\n",
      "module 'handlers' has no attribute 'description'\n",
      "module 'handlers' has no attribute 'speakers'\n",
      "module 'handlers' has no attribute 'price'\n",
      "module 'handlers' has no attribute 'speakers_companies'\n",
      "module 'handlers' has no attribute 'themes'\n",
      "module 'handlers' has no attribute 'organizers'\n",
      "module 'handlers' has no attribute 'location'\n",
      "'NoneType' object has no attribute 'group'\n",
      "module 'handlers' has no attribute 'description'\n",
      "module 'handlers' has no attribute 'speakers'\n",
      "module 'handlers' has no attribute 'price'\n",
      "module 'handlers' has no attribute 'speakers_companies'\n",
      "module 'handlers' has no attribute 'themes'\n",
      "module 'handlers' has no attribute 'organizers'\n",
      "module 'handlers' has no attribute 'location'\n",
      "module 'handlers' has no attribute 'description'\n",
      "module 'handlers' has no attribute 'speakers'\n",
      "module 'handlers' has no attribute 'price'\n",
      "module 'handlers' has no attribute 'speakers_companies'\n",
      "module 'handlers' has no attribute 'themes'\n",
      "module 'handlers' has no attribute 'organizers'\n",
      "module 'handlers' has no attribute 'location'\n",
      "module 'handlers' has no attribute 'description'\n",
      "module 'handlers' has no attribute 'speakers'\n",
      "module 'handlers' has no attribute 'price'\n",
      "module 'handlers' has no attribute 'speakers_companies'\n",
      "module 'handlers' has no attribute 'themes'\n",
      "module 'handlers' has no attribute 'organizers'\n",
      "module 'handlers' has no attribute 'location'\n",
      "'NoneType' object has no attribute 'group'\n"
     ]
    }
   ],
   "source": [
    "import json\n",
    "\n",
    "# custom packages\n",
    "import files\n",
    "import soups\n",
    "import urls\n",
    "import langs\n",
    "import handlers\n",
    "\n",
    "# Узнаем, какие из стартовых страниц, перечисленных в files.pages, размечены.\n",
    "# Такие страницы содержат все поля, перечисленные в files.fields.\n",
    "# Выводим список с помощью специальной функции pages_checked()\n",
    "\n",
    "pages_checked = files.pages_checked()\n",
    "\n",
    "# Для обработки полей, описывающих события, логична следующая последовательность:\n",
    "# - cчитываемые поля со стартовой страницы (обычно это заголовк, дата, статус)\n",
    "# - поля, расположенные на странице мероприятия (темы, докладчики, время начала)\n",
    "# - получаемые из анализа предобработанных полей (теги, призы)\n",
    "\n",
    "\n",
    "class StartPage:\n",
    "    \"\"\"Парсинг начальных страниц, описанных в pages.json\"\"\"\n",
    "    def __init__(self, name):\n",
    "        self.data = {}\n",
    "        self.name = name\n",
    "        self.url = files.pages[name]['start_url']\n",
    "        _ = files.fields_order(name).values()\n",
    "        self.start_fields, self.event_fields, self.analysis_fields = _\n",
    "        for field in self.start_fields:\n",
    "            self.data[field] = files.get_content(self.name, self.url, field)\n",
    "        self.make_event_cards()\n",
    "    \n",
    "\n",
    "    def __repr__(self):\n",
    "        return self.actual_events\n",
    "    \n",
    "\n",
    "    def make_event_cards(self):\n",
    "        \"\"\"Создаёт словари событий, независимо от текущей даты\"\"\"\n",
    "        self.events = {}\n",
    "        for i, event_url in enumerate(self.data['event_url']):\n",
    "            self.events[event_url] = {}\n",
    "            self.events[event_url]['start'] = self.name\n",
    "            for field in set(self.start_fields) - {'event_url'}:\n",
    "                self.data[field][i]\n",
    "                self.events[event_url][field] = self.data[field][i]\n",
    "                \n",
    "    @property\n",
    "    def actual_events(self):\n",
    "        \"\"\"События, актуальные на текущий день\"\"\"\n",
    "        events = self.events.copy()\n",
    "        for event_url in self.events:\n",
    "            if events[event_url]['date'] < handlers.current_date.isoformat():\n",
    "                events.pop(event_url)\n",
    "        return events\n",
    "\n",
    "\n",
    "class Event:\n",
    "    \"\"\"Парсинг страниц событий\"\"\"\n",
    "    def __init__(self, event_url, page):\n",
    "        self.name = page.name\n",
    "        self.url = event_url\n",
    "        self.data = page.events[self.url]\n",
    "        self.event_fields = page.event_fields\n",
    "        for field in self.event_fields:\n",
    "            self.data[field] = files.get_content(self.name, event_url, field)\n",
    "\n",
    "\n",
    "for name in pages_checked:\n",
    "    page = StartPage(name)\n",
    "    actual = page.actual_events\n",
    "    for event_url in actual:\n",
    "        event = Event(event_url, page)\n",
    "        files.events[event_url] = event.data"
   ]
  },
  {
   "cell_type": "code",
   "execution_count": 2,
   "metadata": {
    "Collapsed": "false"
   },
   "outputs": [],
   "source": [
    "with open('files/events.json', 'w', encoding='utf-8') as events_file:\n",
    "    json.dump(files.events, events_file, ensure_ascii=False)"
   ]
  },
  {
   "cell_type": "code",
   "execution_count": 3,
   "metadata": {
    "Collapsed": "false"
   },
   "outputs": [],
   "source": [
    "#! Отсюда можно забрать обработчикитегов\n",
    "\n",
    "# all_fields = set(fields.keys())\n",
    "# required   = {key for key in fields if fields[key]['required']}\n",
    "# optional   = {key for key in fields if not fields[key]['required']}\n",
    "\n",
    "#     def tags(self):\n",
    "#         tags = {}\n",
    "#         title = self.data['title']\n",
    "#         event_url = self.data['event_url']\n",
    "#         themes = self.data['themes'].copy()\n",
    "#         themes.append(title)\n",
    "#         themes.append(event_url)\n",
    "#         text = ''.join(themes)\n",
    "#         for key in tags:\n",
    "#             for tag in tags[key]:\n",
    "#                 if tag.lower() in text.lower():\n",
    "#                     self.data[tags].add(tag)\n",
    "#         return tags"
   ]
  },
  {
   "cell_type": "markdown",
   "metadata": {
    "Collapsed": "false"
   },
   "source": [
    "# Собираем HTML-страницу и деплоим проект 💃"
   ]
  },
  {
   "cell_type": "code",
   "execution_count": 4,
   "metadata": {
    "Collapsed": "false"
   },
   "outputs": [],
   "source": [
    "from bs4 import BeautifulSoup, NavigableString\n",
    "import pandas as pd\n",
    "\n",
    "soup = BeautifulSoup('<article></article')\n",
    "    \n",
    "df = pd.DataFrame.from_dict(files.events, orient='index')\n",
    "df = df.sort_values(by=['date'])\n",
    "df = df[df['date'] >= handlers.current_date.isoformat()]   #! добавить проверку на время\n",
    "\n",
    "\n",
    "def add_tag(child, parent, text='', attrs={}):\n",
    "    tag = soup.new_tag(child, attrs=attrs)\n",
    "    tag.string = text\n",
    "    parent.append(tag)\n",
    "    return eval(f'parent.{child}')\n",
    "\n",
    "\n",
    "for event_url in df.index:\n",
    "    data = df.loc[event_url]\n",
    "    attrs = {'data-date': data.date, 'data-time': data.time, 'data-organizers': data['organizers']}\n",
    "    section = soup.new_tag('section', attrs)\n",
    "    hr = soup.new_tag('hr')\n",
    "    section.append(hr)\n",
    "\n",
    "    h2 = add_tag('h2', section, data.title)\n",
    "    p = add_tag('p', section)\n",
    "    datetime_str = langs.make_datetime_string(data.date, data.time)\n",
    "    t = add_tag('time', p, datetime_str)\n",
    "    p.append(NavigableString(\", \"))\n",
    "    add_tag('a', p, text='ссылка на мероприятие', attrs={'href': event_url})\n",
    "    \n",
    "    if data.reg_url:\n",
    "        if data.reg_url[0] == '#':  #! в случае если ссылка на регистрацию - якорная (нужен обработчик)\n",
    "            data.reg_url = event_url + data.reg_url\n",
    "        p.append(NavigableString(\", \"))\n",
    "        add_tag('a', p, text='ссылка для регистрации', attrs={'href': data.reg_url})\n",
    "\n",
    "    if data.themes != ['']:\n",
    "        themes_ul = add_tag('ul', section, attrs={'class': 'theme-block'})\n",
    "\n",
    "        for theme in set(data.themes):\n",
    "            theme_li = add_tag('li', themes_ul, theme, {'class': 'theme'})\n",
    "\n",
    "    description = add_tag('p', section, data.description[0], attrs={'class':'description__text'})\n",
    "    soup.article.append(section)\n",
    "\n",
    "hr = soup.new_tag('hr')\n",
    "soup.article.append(hr)\n",
    "\n",
    "path_to_html_template = \"../mgio/11ty/_includes/events.njk\"\n",
    "with open(path_to_html_template, 'w', encoding='utf-8') as html_template:\n",
    "    html_template.write(str(soup.article))"
   ]
  },
  {
   "cell_type": "code",
   "execution_count": 5,
   "metadata": {
    "Collapsed": "false"
   },
   "outputs": [
    {
     "name": "stdout",
     "output_type": "stream",
     "text": [
      "Writing ../../matyushkin.github.io/404/index.html from ./404.html.\n",
      "Writing ../../matyushkin.github.io/index.html from ./index.html.\n",
      "Writing ../../matyushkin.github.io/README/index.html from ./README.md.\n",
      "Writing ../../matyushkin.github.io/cv/index.html from ./cv/index.html.\n",
      "Writing ../../matyushkin.github.io/donate/index.html from ./donate/index.html.\n",
      "Writing ../../matyushkin.github.io/events/index.html from ./events/index.html.\n",
      "Writing ../../matyushkin.github.io/links/index.html from ./links/index.html.\n",
      "Writing ../../matyushkin.github.io/texts/index.html from ./texts/index.html.\n",
      "Writing ../../matyushkin.github.io/spb/index.html from ./spb/index.html.\n",
      "Writing ../../matyushkin.github.io/posts/index.html from ./posts/index.html.\n",
      "Copied 15 files / Wrote 10 files in 0.19 seconds (19.0ms each, v0.11.0)\n"
     ]
    },
    {
     "data": {
      "text/plain": [
       "True"
      ]
     },
     "execution_count": 5,
     "metadata": {},
     "output_type": "execute_result"
    }
   ],
   "source": [
    "!cd ../mgio/11ty/; npx eleventy --passthroughall --output=../../matyushkin.github.io\n",
    "!cd ../matyushkin.github.io/; rm -rf 404\n",
    "!cd ../matyushkin.github.io/; rm -rf README\n",
    "\n",
    "\n",
    "# посмотрим, что получилось в браузере\n",
    "import webbrowser\n",
    "url = \"../matyushkin.github.io/events/index.html\"\n",
    "webbrowser.open_new_tab(url)"
   ]
  },
  {
   "cell_type": "code",
   "execution_count": 6,
   "metadata": {
    "Collapsed": "false"
   },
   "outputs": [
    {
     "name": "stdout",
     "output_type": "stream",
     "text": [
      "[master b9839b6] Events page is updated: only actual events\n",
      " 1 file changed, 10 insertions(+), 10 deletions(-)\n",
      " rewrite events/index.html (83%)\n",
      "Counting objects: 4, done.\n",
      "Delta compression using up to 8 threads.\n",
      "Compressing objects: 100% (3/3), done.\n",
      "Writing objects: 100% (4/4), 489 bytes | 489.00 KiB/s, done.\n",
      "Total 4 (delta 2), reused 0 (delta 0)\n",
      "remote: Resolving deltas: 100% (2/2), completed with 2 local objects.\u001b[K\n",
      "To github.com:matyushkin/matyushkin.github.io.git\n",
      "   82310eb..b9839b6  master -> master\n"
     ]
    }
   ],
   "source": [
    "! cd ../matyushkin.github.io/; git add . ; git commit -m \"Events page is updated: only actual events\"; git push origin master"
   ]
  },
  {
   "cell_type": "code",
   "execution_count": null,
   "metadata": {
    "Collapsed": "false"
   },
   "outputs": [],
   "source": []
  }
 ],
 "metadata": {
  "kernelspec": {
   "display_name": "Python 3",
   "language": "python",
   "name": "python3"
  },
  "language_info": {
   "codemirror_mode": {
    "name": "ipython",
    "version": 3
   },
   "file_extension": ".py",
   "mimetype": "text/x-python",
   "name": "python",
   "nbconvert_exporter": "python",
   "pygments_lexer": "ipython3",
   "version": "3.7.6"
  }
 },
 "nbformat": 4,
 "nbformat_minor": 4
}
