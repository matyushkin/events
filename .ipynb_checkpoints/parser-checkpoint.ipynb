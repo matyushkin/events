{
 "cells": [
  {
   "cell_type": "markdown",
   "metadata": {},
   "source": [
    "🕺 This ipynb file is draft for aggregation models for free events about IT and programming: webinars, hackathons, broadcasts and courses."
   ]
  },
  {
   "cell_type": "code",
   "execution_count": 12,
   "metadata": {},
   "outputs": [],
   "source": [
    "import json  # for events.json file\n",
    "import requests\n",
    "from bs4 import BeautifulSoup\n",
    "#soup = BeautifulSoup(html_doc, 'html.parser')\n"
   ]
  },
  {
   "cell_type": "code",
   "execution_count": 18,
   "metadata": {},
   "outputs": [
    {
     "name": "stdout",
     "output_type": "stream",
     "text": [
      "Проводим парсинг страницы Мероприятия Яндекса по адресу https://events.yandex.ru/\n",
      "[<div class=\"event-card\" data-id=\"5365\"><a href=\"/events/vstrecha-rossijskoj-r-09-06-2020\" title=\"Встреча Российской рабочей группы по стандартизации С++\"><div class=\"event-card__image\"></div></a><div class=\"event-card__container\"><div class=\"event-card__date\">вт, 9 июня</div><a class=\"event-card__title\" href=\"/events/vstrecha-rossijskoj-r-09-06-2020\" title=\"Встреча Российской рабочей группы по стандартизации С++\">Встреча Российской рабочей группы по стандартизации С++</a><div class=\"event-card__registration event-card__registration_status_opened\">Регистрация открыта</div></div></div>, <div class=\"event-card\" data-id=\"5360\"><a href=\"/events/tutorial-catboost-04-06-2020\" title=\"Туториал: новые фичи CatBoost\"><div class=\"event-card__image\"></div></a><div class=\"event-card__container\"><div class=\"event-card__date\">чт, 4 июня</div><a class=\"event-card__title\" href=\"/events/tutorial-catboost-04-06-2020\" title=\"Туториал: новые фичи CatBoost\">Туториал: новые фичи CatBoost</a><div class=\"event-card__registration event-card__registration_status_opened\">Регистрация открыта</div></div></div>, <div class=\"event-card\" data-id=\"5357\"><a href=\"/events/toloka-04-06-2020\" title=\"Вебинар по разметке больших массивов данных от Яндекс.Толоки и Dbrain\"><div class=\"event-card__image\"></div></a><div class=\"event-card__container\"><div class=\"event-card__date\">чт, 4 июня</div><a class=\"event-card__title\" href=\"/events/toloka-04-06-2020\" title=\"Вебинар по разметке больших массивов данных от Яндекс.Толоки и Dbrain\">Вебинар по разметке больших массивов данных от Яндекс.Толоки и Dbrain</a><div class=\"event-card__registration event-card__registration_status_opened\">Регистрация открыта</div></div></div>, <div class=\"event-card\" data-id=\"5356\"><a href=\"https://cloud.yandex.ru/events/137\" title=\"Облако в сфере образования\"><div class=\"event-card__image\"></div></a><div class=\"event-card__container\"><div class=\"event-card__date\">чт, 4 июня</div><a class=\"event-card__title\" href=\"https://cloud.yandex.ru/events/137\" title=\"Облако в сфере образования\">Облако в сфере образования</a><div class=\"event-card__registration event-card__registration_status_opened\">Регистрация открыта</div></div></div>, <div class=\"event-card\" data-id=\"5364\"><a href=\"http://yandex.ru/promo/events/online/kazakhstan?utm_source=events&amp;utm_medium=post&amp;utm_campaign=event\" title=\"Яндекс для Казахстана: как продолжить бизнес в новой реальности\"><div class=\"event-card__image\"></div></a><div class=\"event-card__container\"><div class=\"event-card__date\">чт, 4 июня</div><a class=\"event-card__title\" href=\"http://yandex.ru/promo/events/online/kazakhstan?utm_source=events&amp;utm_medium=post&amp;utm_campaign=event\" title=\"Яндекс для Казахстана: как продолжить бизнес в новой реальности\">Яндекс для Казахстана: как продолжить бизнес в новой реальности</a><div class=\"event-card__registration event-card__registration_status_opened\">Регистрация открыта</div></div></div>, <div class=\"event-card event-card_finished\" data-id=\"5350\"><a href=\"/events/hardware/29-may-2020\" title=\"Я.Железо: разбираем Яндекс.Станцию Мини в прямом эфире\"><div class=\"event-card__image\"></div></a><div class=\"event-card__container\"><div class=\"event-card__date\">пт, 29 мая</div><a class=\"event-card__title\" href=\"/events/hardware/29-may-2020\" title=\"Я.Железо: разбираем Яндекс.Станцию Мини в прямом эфире\">Я.Железо: разбираем Яндекс.Станцию Мини в прямом эфире</a></div></div>, <div class=\"event-card event-card_finished\" data-id=\"5338\"><a href=\"https://cloud.yandex.ru/events/131\" title=\"Вебинар. CI/CD в Облаке с помощью GitLab\"><div class=\"event-card__image\"></div></a><div class=\"event-card__container\"><div class=\"event-card__date\">пт, 29 мая</div><a class=\"event-card__title\" href=\"https://cloud.yandex.ru/events/131\" title=\"Вебинар. CI/CD в Облаке с помощью GitLab\">Вебинар. CI/CD в Облаке с помощью GitLab</a></div></div>, <div class=\"event-card event-card_finished\" data-id=\"5354\"><a href=\"/events/pytup-27-05-2020\" title=\"Pytup\"><div class=\"event-card__image\"></div></a><div class=\"event-card__container\"><div class=\"event-card__date\">ср, 27 мая</div><a class=\"event-card__title\" href=\"/events/pytup-27-05-2020\" title=\"Pytup\">Pytup</a></div></div>]\n"
     ]
    }
   ],
   "source": [
    "headers = requests.utils.default_headers()\n",
    "\n",
    "def yandex(name='Мероприятия Яндекса', url='https://events.yandex.ru/'):\n",
    "    print(f'Проводим парсинг страницы {name} по адресу {url}')\n",
    "    page = requests.get(url, headers=headers).text\n",
    "    soup = BeautifulSoup(page, 'html.parser')\n",
    "    print(soup.body.find_all('div', {'class':'event-card'}))\n",
    "\n",
    "def main_parser():\n",
    "    '''Evaluates other parser functions for websites from events.json'''\n",
    "    with open('pages.json') as events_file:\n",
    "        pages = json.load(events_file)\n",
    "\n",
    "    for page in pages:\n",
    "        name = pages[page]['name']\n",
    "        url = pages[page]['url']\n",
    "        func = pages[page]['func']\n",
    "        eval(f'{func}(\"{name}\", \"{url}\")')\n",
    "        \n",
    "main_parser()"
   ]
  },
  {
   "cell_type": "markdown",
   "metadata": {},
   "source": [
    "\n",
    "headers['User-Agent'] = 'Mozilla/5.0 (X11; Linux x86_64) AppleWebKit/537.36 (KHTML, like Gecko) Chrome/56.0.2924.87 Safari/537.36'\n",
    " \n",
    "    \n",
    "span = 'span', {\"class\":\"ml-1\", \"data-views\":\"\"})[0]"
   ]
  }
 ],
 "metadata": {
  "kernelspec": {
   "display_name": "Python 3",
   "language": "python",
   "name": "python3"
  },
  "language_info": {
   "codemirror_mode": {
    "name": "ipython",
    "version": 3
   },
   "file_extension": ".py",
   "mimetype": "text/x-python",
   "name": "python",
   "nbconvert_exporter": "python",
   "pygments_lexer": "ipython3",
   "version": "3.7.6"
  }
 },
 "nbformat": 4,
 "nbformat_minor": 4
}
