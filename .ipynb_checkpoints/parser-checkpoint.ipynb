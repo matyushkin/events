{
 "cells": [
  {
   "cell_type": "markdown",
   "metadata": {
    "Collapsed": "false",
    "toc-hr-collapsed": true,
    "toc-nb-collapsed": true
   },
   "source": [
    "# 🐅 Парсер\n",
    "\n",
    "Парсинг начинается со страниц, перечисленных в `pages.json`. Файл содержит необходимые сведения о структуре страниц сайта: стартовая страница, селекторы страницы, отвечающие за их описания (могут быть на стартовой `start_url` или внутренних страницах `event_urk`), количество соответствующих элементов. Если для ссылки события пока нет описания в файле `events.json`, в результате парсинга создаётся соответствующий объект. Этот файл используется для генерации карточек мероприятий в HTML, публикуемый на [matyushkin.github.io/events](https://matyushkin.github.io/events/)."
   ]
  },
  {
   "cell_type": "code",
   "execution_count": 44,
   "metadata": {
    "Collapsed": "false"
   },
   "outputs": [],
   "source": [
    "import os\n",
    "import json\n",
    "\n",
    "# custom packages\n",
    "import files\n",
    "import soups\n",
    "import urls\n",
    "import langs\n",
    "import handlers\n",
    "\n",
    "FORCE = True  # Если True - все страницы загружаются заново, если False -- только стартовые \n",
    "\n",
    "# Узнаем, какие из стартовых страниц, перечисленных в files.pages, размечены.\n",
    "# Такие страницы содержат все поля, перечисленные в files.fields.\n",
    "# Выводим список с помощью специальной функции pages_checked()\n",
    "\n",
    "pages_checked = files.pages_checked()\n",
    "\n",
    "# Для обработки полей, описывающих события, логична следующая последовательность:\n",
    "# - cчитываемые поля со стартовой страницы (обычно это заголовк, дата, статус)\n",
    "# - поля, расположенные на странице мероприятия (темы, докладчики, время начала)\n",
    "# - получаемые из анализа предобработанных полей (теги, призы)\n",
    "\n",
    "\n",
    "class StartPage:\n",
    "    \"\"\"Парсинг начальных страниц, описанных в pages.json\"\"\"\n",
    "    def __init__(self, start_url):\n",
    "        self.data, self.event_lists, self.events = {}, {}, {}\n",
    "        self.data['start_url'] = start_url\n",
    "        self.fields = files.fields_order(start_url)\n",
    "        for field in self.fields['start']:\n",
    "            self.event_lists[field] = files.get_content(self.data, field, force=True)\n",
    "        event_urls = self.event_lists.pop('event_url')\n",
    "        self.fields['start'].remove('event_url')\n",
    "        for i, event_url in enumerate(event_urls):\n",
    "            self.events[event_url] = {}\n",
    "            for field in self.fields['start']:\n",
    "                self.events[event_url][field] = self.event_lists[field][i]\n",
    "    \n",
    "\n",
    "    def __repr__(self):\n",
    "        return self.actual_events\n",
    "            \n",
    "                \n",
    "    @property\n",
    "    def actual_events(self):\n",
    "        \"\"\"События, актуальные на текущий день\"\"\"\n",
    "        events = self.events.copy()\n",
    "        for event_url in self.events:\n",
    "            if events[event_url]['date'] < handlers.current_date.isoformat():\n",
    "                events.pop(event_url)\n",
    "        return events\n",
    "\n",
    "\n",
    "class EventPage:\n",
    "    \"\"\"Парсинг страниц событий\"\"\"\n",
    "    def __init__(self, event_url, start_page, force=FORCE):\n",
    "        self.data = start_page.events[event_url]\n",
    "        self.data['start_url'] = start_page.data['start_url']\n",
    "        self.data['event_url'] = event_url\n",
    "        for field in start_page.fields['event']:\n",
    "            self.data[field] = files.get_content(self.data, field, force)\n",
    "        for field in self.data:\n",
    "            # удаление дупликатов в списках с сохранением порядка\n",
    "            if type(self.data[field]) == list:\n",
    "                self.data[field] = list(dict.fromkeys(self.data[field]))\n",
    "\n",
    "\n",
    "for start_url in pages_checked:\n",
    "    start_page = StartPage(start_url)\n",
    "    actual = start_page.actual_events\n",
    "    for event_url in actual:\n",
    "        event = EventPage(event_url, start_page)\n",
    "        files.events[event_url] = event.data"
   ]
  },
  {
   "cell_type": "code",
   "execution_count": 58,
   "metadata": {
    "Collapsed": "false"
   },
   "outputs": [],
   "source": [
    "# def get_content_test(start_url, event_url):\n",
    "#     start_page = StartPage(start_url)\n",
    "#     print(start_page.events)\n",
    "#     actual = start_page.actual_events\n",
    "#     event = EventPage(event_url, start_page)\n",
    "#     print(event.data)\n",
    "\n",
    "# get_content_test(\"https://events.yandex.ru/\", \"https://cloud.yandex.ru/events/143\")"
   ]
  },
  {
   "cell_type": "markdown",
   "metadata": {
    "Collapsed": "false"
   },
   "source": [
    "Удаляем устаревшие soup-объекты:"
   ]
  },
  {
   "cell_type": "code",
   "execution_count": 45,
   "metadata": {
    "Collapsed": "false"
   },
   "outputs": [],
   "source": [
    "for key in soups.soups.keys()-actual:\n",
    "    del soups.soups[key]\n",
    "\n",
    "soups.write_soups(soups.soups)"
   ]
  },
  {
   "cell_type": "code",
   "execution_count": 46,
   "metadata": {
    "Collapsed": "false"
   },
   "outputs": [],
   "source": [
    "with open('files/events.json', 'w', encoding='utf-8') as events_file:\n",
    "    json.dump(files.events, events_file, ensure_ascii=False)"
   ]
  },
  {
   "cell_type": "markdown",
   "metadata": {
    "Collapsed": "false"
   },
   "source": [
    "# Анализируем и дополняем полученную информацию\n",
    "\n",
    "Предварительно, если среди мероприятий имеются мероприятия, не обрабатываемые парсером (`events_special`) или рекламируемые (`events_promo`), обрабатываем их отдельно. Для этого помечаем их в датафрейме особым образом."
   ]
  },
  {
   "cell_type": "code",
   "execution_count": 47,
   "metadata": {
    "Collapsed": "false"
   },
   "outputs": [],
   "source": [
    "import pandas as pd\n",
    "\n",
    "def promo_and_special():\n",
    "    event_types = 'promo', 'special'\n",
    "    d = {}\n",
    "    for event_type in event_types:\n",
    "        event_urls = list(eval(f'files.events_{event_type}.keys()'))\n",
    "        for event_url in event_urls:\n",
    "            d[event_url] = event_type\n",
    "    return d\n",
    "\n",
    "def tags(data):\n",
    "    tags = set()\n",
    "    title = data.title\n",
    "    event_url = data.event_url\n",
    "    description = data.description\n",
    "    themes = data.themes.copy()\n",
    "    themes += [title, event_url]\n",
    "    themes += description\n",
    "    text = ' '.join(themes)\n",
    "    \n",
    "    for key in files.tags:\n",
    "        for tag in files.tags[key]:\n",
    "            if tag.lower() in text.lower():\n",
    "                tags.add(key)\n",
    "    return tags\n",
    "\n",
    "\n",
    "df = pd.DataFrame.from_dict(files.events, orient='index')\n",
    "\n",
    "# Сразу выкидываем мероприятия, которые не хотим видеть\n",
    "df = df.drop(list(files.events_bad.keys()), errors='ignore')\n",
    "\n",
    "df = df.sort_values(by=['date'])\n",
    "df = df[df['date'] >= handlers.current_date.isoformat()]   #! добавить проверку на время\n",
    "df['type'] = df.index.map(promo_and_special())\n",
    "df['tags'] = df.apply(lambda x: tags(x), axis=1)"
   ]
  },
  {
   "cell_type": "markdown",
   "metadata": {
    "Collapsed": "false"
   },
   "source": [
    "# Собираем HTML-страницу и деплоим проект 💃"
   ]
  },
  {
   "cell_type": "markdown",
   "metadata": {
    "Collapsed": "false"
   },
   "source": [
    "Для сборки страницы используем BeautifulSoup. Страницу собираем, объединяя soup-объекты в один."
   ]
  },
  {
   "cell_type": "code",
   "execution_count": 48,
   "metadata": {
    "Collapsed": "false"
   },
   "outputs": [],
   "source": [
    "from bs4 import BeautifulSoup, Comment\n",
    "from itertools import zip_longest\n",
    "import copy\n",
    "\n",
    "with open(\"files/event_card_template.html\") as template:\n",
    "    template = BeautifulSoup(template.read(), 'html.parser')\n",
    "\n",
    "\n",
    "def add_info(template, data):\n",
    "    s = copy.copy(template)\n",
    "    \n",
    "    # Информационный блок\n",
    "    data_block = s.find(\"div\", {\"class\":\"event\"})\n",
    "    companies = [*data.organizers, *data.speakers_companies]\n",
    "    companies = \" \".join(list(set(companies))).strip()\n",
    "    data_block['data-companies'] = companies\n",
    "    data_block['data-price'] = data.price\n",
    "    data_block['data-online_status'] = data.online_status\n",
    "    if data.tags:\n",
    "        data_block['data-tags'] = \" \".join(data.tags)\n",
    "    if data.type == 'promo':\n",
    "        data_block['class'].append('promo')\n",
    "    \n",
    "    # Обработка заголовка\n",
    "    header = s.find(\"h2\")\n",
    "    header.string = data.title\n",
    "    \n",
    "    # Блок с описанием места и времени\n",
    "    time_and_space = s.find(\"p\", {\"class\":\"time_and_space\"})\n",
    "    s.time.string = langs.make_datetime_string(data.date, data.time)\n",
    "    s.time.wrap(s.new_tag('a', attrs={'href':data.event_url}))\n",
    "    if data.reg_url:\n",
    "        time_and_space.append(', ')\n",
    "        reg_url = s.new_tag('a', attrs={'href':data.reg_url})\n",
    "        reg_url.string = 'регистрация'\n",
    "        time_and_space.append(reg_url) \n",
    "    time_and_space.append('.')\n",
    "    \n",
    "    # Блок с темами и докладчиками\n",
    "    themes_and_speakers = s.find(\"p\", {\"class\":\"themes_and_speakers\"})\n",
    "    \n",
    "    if data.themes != ['']:\n",
    "        for theme in data.themes:\n",
    "            if theme:\n",
    "                line = s.new_tag('li')\n",
    "                line.string = theme\n",
    "                s.ul.append(line)\n",
    "    if data.speakers != ['']:\n",
    "        if len(data.speakers) == 1:\n",
    "            themes_and_speakers.append(f'Докладывает: {data.speakers[0]}.')\n",
    "        else:\n",
    "            speakers_str = ', '.join(data.speakers)\n",
    "            themes_and_speakers.append(f'Докладывают: {speakers_str}.')\n",
    "    if data.themes == [''] and data.speakers != ['']:\n",
    "        s.ul.extract()\n",
    "    if data.themes == [''] and data.speakers == ['']:\n",
    "        s.find(\"p\", {\"class\":\"themes_and_speakers\"}).extract()\n",
    "    \n",
    "    # Блок с описанием мероприятия\n",
    "    description = s.find(\"p\", {\"class\":\"description\"})\n",
    "    description.string = data.description[0]\n",
    "    \n",
    "    # Удаляем комментарии\n",
    "    for element in s(text = lambda text: isinstance(text, Comment)):\n",
    "        element.extract()\n",
    "\n",
    "    return s\n",
    "\n",
    "df['soup'] = df.apply(lambda x: add_info(template, x), axis=1)\n",
    "df['html'] = df['soup'].apply(lambda x: str(x))\n",
    "total = '<hr/>'.join(df['html'])\n",
    "\n",
    "path_to_html_template = \"../mgio/11ty/_includes/events.njk\"\n",
    "with open(path_to_html_template, 'w', encoding='utf-8') as html_template:\n",
    "    html_template.write(f'<hr/>{total}<hr/>')"
   ]
  },
  {
   "cell_type": "code",
   "execution_count": 50,
   "metadata": {
    "Collapsed": "false"
   },
   "outputs": [
    {
     "name": "stdout",
     "output_type": "stream",
     "text": [
      "Writing ../../matyushkin.github.io/404/index.html from ./404.html.\n",
      "Writing ../../matyushkin.github.io/README/index.html from ./README.md.\n",
      "Writing ../../matyushkin.github.io/index.html from ./index.html.\n",
      "Writing ../../matyushkin.github.io/cv/index.html from ./cv/index.html.\n",
      "Writing ../../matyushkin.github.io/events/index.html from ./events/index.html.\n",
      "Writing ../../matyushkin.github.io/donate/index.html from ./donate/index.html.\n",
      "Writing ../../matyushkin.github.io/links/index.html from ./links/index.html.\n",
      "Writing ../../matyushkin.github.io/posts/index.html from ./posts/index.html.\n",
      "Writing ../../matyushkin.github.io/spb/index.html from ./spb/index.html.\n",
      "Writing ../../matyushkin.github.io/texts/index.html from ./texts/index.html.\n",
      "Copied 15 files / Wrote 10 files in 0.19 seconds (19.0ms each, v0.11.0)\n"
     ]
    },
    {
     "data": {
      "text/plain": [
       "True"
      ]
     },
     "execution_count": 50,
     "metadata": {},
     "output_type": "execute_result"
    }
   ],
   "source": [
    "!cd ../mgio/11ty/; npx eleventy --passthroughall --output=../../matyushkin.github.io\n",
    "!cd ../matyushkin.github.io/; rm -rf 404\n",
    "!cd ../matyushkin.github.io/; rm -rf README\n",
    "\n",
    "\n",
    "# посмотрим, что получилось в браузере\n",
    "import webbrowser\n",
    "url = \"../matyushkin.github.io/events/index.html\"\n",
    "webbrowser.open_new_tab(url)"
   ]
  },
  {
   "cell_type": "code",
   "execution_count": 59,
   "metadata": {
    "Collapsed": "false"
   },
   "outputs": [
    {
     "name": "stdout",
     "output_type": "stream",
     "text": [
      "[master 04fb0f8] Events page is updated: some speakers are added\n",
      " 1 file changed, 10 insertions(+), 10 deletions(-)\n",
      " rewrite events/index.html (84%)\n",
      "Counting objects: 4, done.\n",
      "Delta compression using up to 8 threads.\n",
      "Compressing objects: 100% (3/3), done.\n",
      "Writing objects: 100% (4/4), 517 bytes | 517.00 KiB/s, done.\n",
      "Total 4 (delta 2), reused 0 (delta 0)\n",
      "remote: Resolving deltas: 100% (2/2), completed with 2 local objects.\u001b[K\n",
      "To github.com:matyushkin/matyushkin.github.io.git\n",
      "   6c5ccc5..04fb0f8  master -> master\n"
     ]
    }
   ],
   "source": [
    "!cd ../matyushkin.github.io/; git add . ; git commit -m \"Events page is updated: some speakers are added\"; git push origin master"
   ]
  },
  {
   "cell_type": "markdown",
   "metadata": {
    "Collapsed": "false"
   },
   "source": [
    "# Rough technique to reload all imported modules"
   ]
  },
  {
   "cell_type": "code",
   "execution_count": 103,
   "metadata": {
    "Collapsed": "false"
   },
   "outputs": [],
   "source": [
    "import sys, importlib\n",
    "modulenames = set(sys.modules) & set(globals())\n",
    "allmodules = [sys.modules[name] for name in modulenames]\n",
    "for module in allmodules:\n",
    "    importlib.reload(module)"
   ]
  },
  {
   "cell_type": "markdown",
   "metadata": {
    "Collapsed": "false"
   },
   "source": [
    "# Click buttons in footer with Selenium"
   ]
  },
  {
   "cell_type": "code",
   "execution_count": 105,
   "metadata": {
    "Collapsed": "false"
   },
   "outputs": [
    {
     "data": {
      "text/plain": [
       "1"
      ]
     },
     "execution_count": 105,
     "metadata": {},
     "output_type": "execute_result"
    }
   ],
   "source": [
    "start_url = \"https://events.yandex.ru/\"\n",
    "\n",
    "if files.pages_info[start_url]['load'] == 'with_footer':\n",
    "    footer_clicks = files.pages_info[start_url]['footer_clicks']\n",
    "    \n",
    "footer_clicks"
   ]
  },
  {
   "cell_type": "code",
   "execution_count": null,
   "metadata": {},
   "outputs": [],
   "source": []
  }
 ],
 "metadata": {
  "kernelspec": {
   "display_name": "Python 3",
   "language": "python",
   "name": "python3"
  },
  "language_info": {
   "codemirror_mode": {
    "name": "ipython",
    "version": 3
   },
   "file_extension": ".py",
   "mimetype": "text/x-python",
   "name": "python",
   "nbconvert_exporter": "python",
   "pygments_lexer": "ipython3",
   "version": "3.7.6"
  }
 },
 "nbformat": 4,
 "nbformat_minor": 4
}
