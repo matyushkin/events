{
 "cells": [
  {
   "cell_type": "markdown",
   "metadata": {
    "Collapsed": "false",
    "toc-hr-collapsed": true,
    "toc-nb-collapsed": true
   },
   "source": [
    "# 🐅 Парсер\n",
    "Сначала проверяются главные («стартовые») страницы, описанные в файле `pages.json`. Далее найденные на них ссылки на внутренние страницы мероприятий. Результаты записываются в файл `events.json`, который далее используется для генерации карточек мероприятий в HTML. Результаты публикуются на [matyushkin.github.io/events](https://matyushkin.github.io/events/)."
   ]
  },
  {
   "cell_type": "code",
   "execution_count": 1,
   "metadata": {
    "Collapsed": "false"
   },
   "outputs": [
    {
     "name": "stdout",
     "output_type": "stream",
     "text": [
      "event_url: https://events.yandex.ru/events/mini-giperbaton-22-07-2020\n",
      "date: 2020-07-22\n",
      "event_url: https://events.yandex.ru/events/yasubbotnik/4-jul-2020\n",
      "date: 2020-07-04\n",
      "event_url: https://cloud.yandex.ru/events/145\n",
      "date: 2020-07-02\n",
      "event_url: https://cloud.yandex.ru/events/143\n",
      "date: 2020-06-30\n",
      "event_url: https://events.yandex.ru/events/zen-meetup/26-06-2020\n",
      "date: 2020-06-26\n",
      "event_url: https://events.yandex.ru/events/bugs-busters-25-06-2020\n",
      "date: 2020-06-25\n",
      "event_url: https://cloud.yandex.ru/events/138\n",
      "date: 2020-06-25\n",
      "event_url: https://cloud.yandex.ru/events/140\n",
      "date: 2020-06-23\n",
      "{'https://events.yandex.ru/events/mini-giperbaton-22-07-2020': {'title': 'Мини-Гипербатон. Онлайн', 'date': '2020-07-22'}, 'https://events.yandex.ru/events/yasubbotnik/4-jul-2020': {'title': 'Я.Субботник по разработке интерфейсов. Онлайн, темы выбраны!', 'date': '2020-07-04'}, 'https://cloud.yandex.ru/events/145': {'title': 'about:cloud – бессерверные технологии и IoT', 'date': '2020-07-02'}, 'https://cloud.yandex.ru/events/143': {'title': 'Вебинар. Как работает сеть в Облаке', 'date': '2020-06-30'}}\n",
      "module 'handlers' has no attribute 'location'\n",
      "module 'handlers' has no attribute 'price'\n",
      "module 'handlers' has no attribute 'description'\n",
      "module 'handlers' has no attribute 'themes'\n",
      "module 'handlers' has no attribute 'speakers'\n",
      "module 'handlers' has no attribute 'organizers'\n",
      "module 'handlers' has no attribute 'speakers_companies'\n",
      "module 'handlers' has no attribute 'location'\n",
      "module 'handlers' has no attribute 'price'\n",
      "module 'handlers' has no attribute 'description'\n",
      "module 'handlers' has no attribute 'themes'\n",
      "module 'handlers' has no attribute 'speakers'\n",
      "module 'handlers' has no attribute 'organizers'\n",
      "module 'handlers' has no attribute 'speakers_companies'\n",
      "module 'handlers' has no attribute 'location'\n",
      "module 'handlers' has no attribute 'price'\n",
      "module 'handlers' has no attribute 'description'\n",
      "module 'handlers' has no attribute 'themes'\n",
      "module 'handlers' has no attribute 'speakers'\n",
      "module 'handlers' has no attribute 'organizers'\n",
      "module 'handlers' has no attribute 'speakers_companies'\n",
      "module 'handlers' has no attribute 'location'\n",
      "module 'handlers' has no attribute 'price'\n",
      "module 'handlers' has no attribute 'description'\n",
      "module 'handlers' has no attribute 'themes'\n",
      "module 'handlers' has no attribute 'speakers'\n",
      "module 'handlers' has no attribute 'organizers'\n",
      "module 'handlers' has no attribute 'speakers_companies'\n"
     ]
    }
   ],
   "source": [
    "import json\n",
    "\n",
    "# custom packages\n",
    "import files\n",
    "import soups\n",
    "import urls\n",
    "import langs\n",
    "import handlers\n",
    "\n",
    "# Узнаем, какие из стартовых страниц, перечисленных в files.pages, размечены.\n",
    "# Такие страницы содержат все поля, перечисленные в files.fields.\n",
    "# Выводим список с помощью специальной функции pages_checked()\n",
    "\n",
    "pages_checked = files.pages_checked()\n",
    "\n",
    "# Для обработки полей, описывающих события, логична следующая последовательность:\n",
    "# - cчитываемые поля со стартовой страницы (обычно это заголовк, дата, статус)\n",
    "# - поля, расположенные на странице мероприятия (темы, докладчики, время начала)\n",
    "# - получаемые из анализа предобработанных полей (теги, призы)\n",
    "\n",
    "\n",
    "class StartPage:\n",
    "    \"\"\"Парсинг начальных страниц, описанных в pages.json\"\"\"\n",
    "    def __init__(self, start_url):\n",
    "        self.data, self.event_lists, self.events = {}, {}, {}\n",
    "        self.data['start_url'] = start_url\n",
    "        self.fields = files.fields_order(start_url)\n",
    "        for field in self.fields['start']:\n",
    "            self.event_lists[field] = files.get_content(self.data, field)\n",
    "        event_urls = self.event_lists.pop('event_url')\n",
    "        self.fields['start'].remove('event_url')\n",
    "        for i, event_url in enumerate(event_urls):\n",
    "            self.events[event_url] = {}\n",
    "            for field in self.fields['start']:\n",
    "                self.events[event_url][field] = self.event_lists[field][i]\n",
    "    \n",
    "\n",
    "    def __repr__(self):\n",
    "        return self.actual_events\n",
    "            \n",
    "                \n",
    "    @property\n",
    "    def actual_events(self):\n",
    "        \"\"\"События, актуальные на текущий день\"\"\"\n",
    "        events = self.events.copy()\n",
    "        for event_url in self.events:\n",
    "            print(f'event_url: {event_url}')\n",
    "            print(f'date: {events[event_url][\"date\"]}')\n",
    "            if events[event_url]['date'] < handlers.current_date.isoformat():\n",
    "                events.pop(event_url)\n",
    "        return events\n",
    "\n",
    "\n",
    "class EventPage:\n",
    "    \"\"\"Парсинг страниц событий\"\"\"\n",
    "    def __init__(self, event_url, start_page):\n",
    "        self.data = start_page.events[event_url]\n",
    "        self.data['start_url'] = start_page.data['start_url']\n",
    "        self.data['event_url'] = event_url\n",
    "        for field in start_page.fields['event']:\n",
    "            self.data[field] = files.get_content(self.data, field)\n",
    "\n",
    "\n",
    "for start_url in pages_checked:\n",
    "    start_page = StartPage(start_url)\n",
    "    actual = start_page.actual_events\n",
    "    print(actual)\n",
    "    for event_url in actual:\n",
    "        event = EventPage(event_url, start_page)\n",
    "        files.events[event_url] = event.data  #! Спорное решение, требует замены"
   ]
  },
  {
   "cell_type": "code",
   "execution_count": 3,
   "metadata": {
    "Collapsed": "false"
   },
   "outputs": [],
   "source": [
    "with open('files/events.json', 'w', encoding='utf-8') as events_file:\n",
    "    json.dump(files.events, events_file, ensure_ascii=False)"
   ]
  },
  {
   "cell_type": "code",
   "execution_count": null,
   "metadata": {
    "Collapsed": "false"
   },
   "outputs": [],
   "source": [
    "#! Отсюда можно забрать обработчикитегов\n",
    "\n",
    "# all_fields = set(fields.keys())\n",
    "# required   = {key for key in fields if fields[key]['required']}\n",
    "# optional   = {key for key in fields if not fields[key]['required']}\n",
    "\n",
    "#     def tags(self):\n",
    "#         tags = {}\n",
    "#         title = self.data['title']\n",
    "#         event_url = self.data['event_url']\n",
    "#         themes = self.data['themes'].copy()\n",
    "#         themes.append(title)\n",
    "#         themes.append(event_url)\n",
    "#         text = ''.join(themes)\n",
    "#         for key in tags:\n",
    "#             for tag in tags[key]:\n",
    "#                 if tag.lower() in text.lower():\n",
    "#                     self.data[tags].add(tag)\n",
    "#         return tags"
   ]
  },
  {
   "cell_type": "markdown",
   "metadata": {
    "Collapsed": "false"
   },
   "source": [
    "# Собираем HTML-страницу и деплоим проект 💃"
   ]
  },
  {
   "cell_type": "code",
   "execution_count": 4,
   "metadata": {
    "Collapsed": "false"
   },
   "outputs": [],
   "source": [
    "from bs4 import BeautifulSoup, NavigableString\n",
    "import pandas as pd\n",
    "\n",
    "soup = BeautifulSoup('<article></article')\n",
    "    \n",
    "df = pd.DataFrame.from_dict(files.events, orient='index')\n",
    "df = df.sort_values(by=['date'])\n",
    "df = df[df['date'] >= handlers.current_date.isoformat()]   #! добавить проверку на время\n",
    "\n",
    "\n",
    "def add_tag(child, parent, text='', attrs={}):\n",
    "    tag = soup.new_tag(child, attrs=attrs)\n",
    "    tag.string = text\n",
    "    parent.append(tag)\n",
    "    return eval(f'parent.{child}')\n",
    "\n",
    "\n",
    "for event_url in df.index:\n",
    "    data = df.loc[event_url]\n",
    "    attrs = {'data-date': data.date, 'data-time': data.time, 'data-organizers': data['organizers']}\n",
    "    section = soup.new_tag('section', attrs)\n",
    "    hr = soup.new_tag('hr')\n",
    "    section.append(hr)\n",
    "\n",
    "    h2 = add_tag('h2', section, data.title)\n",
    "    p = add_tag('p', section)\n",
    "    datetime_str = langs.make_datetime_string(data.date, data.time)\n",
    "    t = add_tag('time', p, datetime_str)\n",
    "    p.append(NavigableString(\", \"))\n",
    "    add_tag('a', p, text='ссылка на мероприятие', attrs={'href': event_url})\n",
    "    \n",
    "    if data.reg_url:\n",
    "        p.append(NavigableString(\", \"))\n",
    "        add_tag('a', p, text='ссылка для регистрации', attrs={'href': data.reg_url})\n",
    "\n",
    "    if data.themes != ['']:\n",
    "        themes_ul = add_tag('ul', section, attrs={'class': 'theme-block'})\n",
    "\n",
    "        for theme in set(data.themes):\n",
    "            theme_li = add_tag('li', themes_ul, theme, {'class': 'theme'})\n",
    "\n",
    "    description = add_tag('p', section, data.description[0], attrs={'class':'description__text'})\n",
    "    soup.article.append(section)\n",
    "\n",
    "hr = soup.new_tag('hr')\n",
    "soup.article.append(hr)\n",
    "\n",
    "path_to_html_template = \"../mgio/11ty/_includes/events.njk\"\n",
    "with open(path_to_html_template, 'w', encoding='utf-8') as html_template:\n",
    "    html_template.write(str(soup.article))"
   ]
  },
  {
   "cell_type": "code",
   "execution_count": 5,
   "metadata": {
    "Collapsed": "false"
   },
   "outputs": [
    {
     "name": "stdout",
     "output_type": "stream",
     "text": [
      "Writing ../../matyushkin.github.io/404/index.html from ./404.html.\n",
      "Writing ../../matyushkin.github.io/README/index.html from ./README.md.\n",
      "Writing ../../matyushkin.github.io/index.html from ./index.html.\n",
      "Writing ../../matyushkin.github.io/cv/index.html from ./cv/index.html.\n",
      "Writing ../../matyushkin.github.io/events/index.html from ./events/index.html.\n",
      "Writing ../../matyushkin.github.io/donate/index.html from ./donate/index.html.\n",
      "Writing ../../matyushkin.github.io/links/index.html from ./links/index.html.\n",
      "Writing ../../matyushkin.github.io/texts/index.html from ./texts/index.html.\n",
      "Writing ../../matyushkin.github.io/posts/index.html from ./posts/index.html.\n",
      "Writing ../../matyushkin.github.io/spb/index.html from ./spb/index.html.\n",
      "Copied 15 files / Wrote 10 files in 0.19 seconds (19.0ms each, v0.11.0)\n"
     ]
    },
    {
     "data": {
      "text/plain": [
       "True"
      ]
     },
     "execution_count": 5,
     "metadata": {},
     "output_type": "execute_result"
    }
   ],
   "source": [
    "!cd ../mgio/11ty/; npx eleventy --passthroughall --output=../../matyushkin.github.io\n",
    "!cd ../matyushkin.github.io/; rm -rf 404\n",
    "!cd ../matyushkin.github.io/; rm -rf README\n",
    "\n",
    "\n",
    "# посмотрим, что получилось в браузере\n",
    "import webbrowser\n",
    "url = \"../matyushkin.github.io/events/index.html\"\n",
    "webbrowser.open_new_tab(url)"
   ]
  },
  {
   "cell_type": "code",
   "execution_count": 6,
   "metadata": {
    "Collapsed": "false"
   },
   "outputs": [
    {
     "name": "stdout",
     "output_type": "stream",
     "text": [
      "[master a41b96b] Events page is updated: only actual events\n",
      " 1 file changed, 10 insertions(+), 10 deletions(-)\n",
      " rewrite events/index.html (77%)\n",
      "Counting objects: 4, done.\n",
      "Delta compression using up to 8 threads.\n",
      "Compressing objects: 100% (3/3), done.\n",
      "Writing objects: 100% (4/4), 1.22 KiB | 626.00 KiB/s, done.\n",
      "Total 4 (delta 2), reused 0 (delta 0)\n",
      "remote: Resolving deltas: 100% (2/2), completed with 2 local objects.\u001b[K\n",
      "To github.com:matyushkin/matyushkin.github.io.git\n",
      "   b9839b6..a41b96b  master -> master\n"
     ]
    }
   ],
   "source": [
    "! cd ../matyushkin.github.io/; git add . ; git commit -m \"Events page is updated: only actual events\"; git push origin master"
   ]
  },
  {
   "cell_type": "code",
   "execution_count": null,
   "metadata": {
    "Collapsed": "false"
   },
   "outputs": [],
   "source": []
  }
 ],
 "metadata": {
  "kernelspec": {
   "display_name": "Python 3",
   "language": "python",
   "name": "python3"
  },
  "language_info": {
   "codemirror_mode": {
    "name": "ipython",
    "version": 3
   },
   "file_extension": ".py",
   "mimetype": "text/x-python",
   "name": "python",
   "nbconvert_exporter": "python",
   "pygments_lexer": "ipython3",
   "version": "3.7.6"
  }
 },
 "nbformat": 4,
 "nbformat_minor": 4
}
