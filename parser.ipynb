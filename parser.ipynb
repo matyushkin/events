{
 "cells": [
  {
   "cell_type": "markdown",
   "metadata": {},
   "source": []
  },
  {
   "cell_type": "markdown",
   "metadata": {
    "Collapsed": "false",
    "toc-hr-collapsed": true,
    "toc-nb-collapsed": true
   },
   "source": [
    "# 🐅 Парсер\n",
    "\n",
    "Парсинг начинается со страниц, перечисленных в `pages.json`. Файл содержит необходимые сведения о структуре страниц сайта: стартовая страница, селекторы страницы, отвечающие за их описания (могут быть на стартовой `start_url` или внутренних страницах `event_urk`), количество соответствующих элементов. Если для ссылки события пока нет описания в файле `events.json`, в результате парсинга создаётся соответствующий объект. Этот файл используется для генерации карточек мероприятий в HTML, публикуемый на [matyushkin.github.io/events](https://matyushkin.github.io/events/)."
   ]
  },
  {
   "cell_type": "code",
   "execution_count": null,
   "metadata": {},
   "outputs": [],
   "source": [
    "# soups.force_update_soups()"
   ]
  },
  {
   "cell_type": "markdown",
   "metadata": {},
   "source": [
    "Специальный инструмент перезагрузки модулей:"
   ]
  },
  {
   "cell_type": "code",
   "execution_count": 376,
   "metadata": {},
   "outputs": [],
   "source": [
    "import sys, importlib\n",
    "modulenames = set(sys.modules) & set(globals())\n",
    "allmodules = [sys.modules[name] for name in modulenames]\n",
    "for module in allmodules:\n",
    "    importlib.reload(module)"
   ]
  },
  {
   "cell_type": "code",
   "execution_count": 361,
   "metadata": {
    "Collapsed": "false"
   },
   "outputs": [
    {
     "name": "stdout",
     "output_type": "stream",
     "text": [
      "Все необходимые поля имеются у следующих стартовых страниц: \n",
      "https://events.yandex.ru/\n",
      "https://it-events.com/\n"
     ]
    }
   ],
   "source": [
    "import sys\n",
    "import os\n",
    "import importlib\n",
    "import itertools\n",
    "import json\n",
    "\n",
    "# custom packages\n",
    "import files\n",
    "import soups\n",
    "import urls\n",
    "import langs\n",
    "import handlers\n",
    "\n",
    "\n",
    "def reload_modules():\n",
    "    '''Rough technique to reload all imported modules'''\n",
    "    modulenames = set(sys.modules) & set(globals())\n",
    "    allmodules = [sys.modules[name] for name in modulenames]\n",
    "    for module in allmodules:\n",
    "        importlib.reload(module)\n",
    "\n",
    "# Узнаем, какие из стартовых страниц, перечисленных в files.pages, размечены.\n",
    "# Такие страницы содержат все поля, перечисленные в files.fields.\n",
    "# Выводим список с помощью специальной функции pages_checked()\n",
    "\n",
    "pages_checked = files.pages_checked()\n",
    "print('Все необходимые поля имеются у следующих стартовых страниц: ')\n",
    "for page in pages_checked:\n",
    "    print(page)\n",
    "\n",
    "# Для обработки полей, описывающих события, логична следующая последовательность:\n",
    "# - cчитываемые поля со стартовой страницы (обычно это заголовк, дата, статус)\n",
    "# - поля, расположенные на странице мероприятия (темы, докладчики, время начала)\n",
    "# - получаемые из анализа предобработанных полей (теги, призы)\n",
    "\n",
    "\n",
    "class StartPage:\n",
    "    \"\"\"Парсинг начальных страниц, описанных в pages.json\"\"\"\n",
    "    def __init__(self, start_url):\n",
    "        self.data, self.event_lists, self.events = {}, {}, {}\n",
    "        self.data['start_url'] = start_url\n",
    "        self.fields = files.fields_order(start_url)\n",
    "        for field in self.fields['start']:\n",
    "            self.event_lists[field] = files.get_content(self.data, field)\n",
    "        event_urls = self.event_lists.pop('event_url')\n",
    "        self.fields['start'].remove('event_url')\n",
    "        for i, event_url in enumerate(event_urls):\n",
    "            self.events[event_url] = {}\n",
    "            for field in self.fields['start']:\n",
    "                self.events[event_url][field] = self.event_lists[field][i]\n",
    "    \n",
    "\n",
    "    def __repr__(self):\n",
    "        return self.actual_events\n",
    "            \n",
    "                \n",
    "    @property\n",
    "    def actual_events(self):\n",
    "        \"\"\"События, актуальные на текущий день\"\"\"\n",
    "        events = self.events.copy()\n",
    "        for event_url in self.events:\n",
    "            if events[event_url]['date'] < handlers.current_date.isoformat():\n",
    "                events.pop(event_url)\n",
    "        return events\n",
    "\n",
    "\n",
    "class EventPage:\n",
    "    \"\"\"Парсинг страниц событий\"\"\"\n",
    "    def __init__(self, event_url, start_page):\n",
    "        self.data = start_page.events[event_url]\n",
    "        self.data['start_url'] = start_page.data['start_url']\n",
    "        self.data['event_url'] = event_url\n",
    "        for field in start_page.fields['event']:\n",
    "            self.data[field] = files.get_content(self.data, field)\n",
    "        for field in self.data:\n",
    "            # удаление дупликатов в списках с сохранением порядка\n",
    "            if type(self.data[field]) == list:\n",
    "                self.data[field] = list(dict.fromkeys(self.data[field]))\n",
    "\n",
    "\n",
    "for start_url in pages_checked[1:]:   #! Для текущей работы со страницей it-events\n",
    "    start_page = StartPage(start_url)\n",
    "    actual = start_page.actual_events\n",
    "    for event_url in actual:\n",
    "        event = EventPage(event_url, start_page)\n",
    "        files.events[event_url] = event.data"
   ]
  },
  {
   "cell_type": "code",
   "execution_count": 362,
   "metadata": {
    "Collapsed": "false"
   },
   "outputs": [],
   "source": [
    "# def get_content_test(start_url, event_url):\n",
    "#     start_page = StartPage(start_url)\n",
    "#     print(start_page.events)\n",
    "#     actual = start_page.actual_events\n",
    "#     event = EventPage(event_url, start_page)\n",
    "#     print(event.data)\n",
    "\n",
    "# get_content_test(\"https://events.yandex.ru/\", \"https://cloud.yandex.ru/events/143\")"
   ]
  },
  {
   "cell_type": "markdown",
   "metadata": {
    "Collapsed": "false"
   },
   "source": [
    "Удаляем устаревшие soup-объекты:"
   ]
  },
  {
   "cell_type": "code",
   "execution_count": 363,
   "metadata": {
    "Collapsed": "false"
   },
   "outputs": [],
   "source": [
    "for key in soups.soups.keys()-actual:\n",
    "    del soups.soups[key]\n",
    "\n",
    "soups.write_soups(soups.soups)"
   ]
  },
  {
   "cell_type": "code",
   "execution_count": 364,
   "metadata": {
    "Collapsed": "false"
   },
   "outputs": [],
   "source": [
    "with open('files/events.json', 'w', encoding='utf-8') as events_file:\n",
    "    json.dump(files.events, events_file, ensure_ascii=False)"
   ]
  },
  {
   "cell_type": "markdown",
   "metadata": {
    "Collapsed": "false"
   },
   "source": [
    "# Анализируем и дополняем полученную информацию\n",
    "\n",
    "Предварительно, если среди мероприятий имеются мероприятия, не обрабатываемые парсером (`events_special`) или рекламируемые (`events_promo`), обрабатываем их отдельно. Для этого помечаем их в датафрейме особым образом."
   ]
  },
  {
   "cell_type": "code",
   "execution_count": 365,
   "metadata": {
    "Collapsed": "false"
   },
   "outputs": [],
   "source": [
    "import pandas as pd\n",
    "\n",
    "def promo_and_special():\n",
    "    event_types = 'promo', 'special'\n",
    "    d = {}\n",
    "    for event_type in event_types:\n",
    "        event_urls = list(eval(f'files.events_{event_type}.keys()'))\n",
    "        for event_url in event_urls:\n",
    "            d[event_url] = event_type\n",
    "    return d\n",
    "\n",
    "\n",
    "df = pd.DataFrame.from_dict(files.events, orient='index')\n",
    "\n",
    "# Сразу выкидываем мероприятия, которые не хотим видеть\n",
    "df = df.drop(list(files.events_bad.keys()), errors='ignore')\n",
    "\n",
    "df = df.sort_values(by=['date'])\n",
    "df = df[df['date'] >= handlers.current_date.isoformat()]   #! добавить проверку на время\n",
    "df['type'] = df.index.map(promo_and_special())\n",
    "df['tags'] = df.apply(lambda x: handlers.find_spec(x, 'tags'), axis=1)\n",
    "df['types'] = df.apply(lambda x: handlers.find_spec(x, 'event_types'), axis=1)\n",
    "\n",
    "# Для фильтрации мероприятий по месяцам, также метки \"Позже\" и \"∞\"\n",
    "df['month'] = df.date.apply(langs.date_to_month)"
   ]
  },
  {
   "cell_type": "markdown",
   "metadata": {},
   "source": [
    "Заполним NA-ячейки пустыми строками или пустыми списками:"
   ]
  },
  {
   "cell_type": "code",
   "execution_count": 368,
   "metadata": {},
   "outputs": [],
   "source": [
    "def emptyfill(x, t):\n",
    "    try:\n",
    "        if math.isnan(x):\n",
    "            if t == str:\n",
    "                return ''\n",
    "            elif t == list:\n",
    "                return ['']\n",
    "            else:\n",
    "                return set()\n",
    "        else:\n",
    "            return x\n",
    "    except:\n",
    "        return x\n",
    "\n",
    "\n",
    "for col in df:\n",
    "    try:\n",
    "        t = type(df[col][df[col].notnull()][0])\n",
    "        df[col] = df[col].apply(lambda x: emptyfill(x, t))\n",
    "    except IndexError:\n",
    "        pass"
   ]
  },
  {
   "cell_type": "code",
   "execution_count": 369,
   "metadata": {},
   "outputs": [
    {
     "data": {
      "text/html": [
       "<div>\n",
       "<style scoped>\n",
       "    .dataframe tbody tr th:only-of-type {\n",
       "        vertical-align: middle;\n",
       "    }\n",
       "\n",
       "    .dataframe tbody tr th {\n",
       "        vertical-align: top;\n",
       "    }\n",
       "\n",
       "    .dataframe thead th {\n",
       "        text-align: right;\n",
       "    }\n",
       "</style>\n",
       "<table border=\"1\" class=\"dataframe\">\n",
       "  <thead>\n",
       "    <tr style=\"text-align: right;\">\n",
       "      <th></th>\n",
       "      <th>title</th>\n",
       "      <th>date</th>\n",
       "      <th>start_url</th>\n",
       "      <th>event_url</th>\n",
       "      <th>themes</th>\n",
       "      <th>time</th>\n",
       "      <th>description</th>\n",
       "      <th>speakers_companies</th>\n",
       "      <th>speakers</th>\n",
       "      <th>reg_url</th>\n",
       "      <th>online_status</th>\n",
       "      <th>organizers</th>\n",
       "      <th>location</th>\n",
       "      <th>price</th>\n",
       "      <th>start</th>\n",
       "      <th>event_type</th>\n",
       "      <th>type</th>\n",
       "      <th>tags</th>\n",
       "      <th>types</th>\n",
       "      <th>month</th>\n",
       "    </tr>\n",
       "  </thead>\n",
       "  <tbody>\n",
       "    <tr>\n",
       "      <th>https://it-events.com/events/18279</th>\n",
       "      <td>Школа DevOps приглашает на обновленный курс «D...</td>\n",
       "      <td>2020-07-06</td>\n",
       "      <td>https://it-events.com/</td>\n",
       "      <td>https://it-events.com/events/18279</td>\n",
       "      <td>[]</td>\n",
       "      <td>20:00</td>\n",
       "      <td>[Команда школы пересмотрела программу курса в ...</td>\n",
       "      <td>[]</td>\n",
       "      <td>[]</td>\n",
       "      <td>https://devops-school.ru/devops_engineer.html</td>\n",
       "      <td>Offline</td>\n",
       "      <td>[]</td>\n",
       "      <td></td>\n",
       "      <td>Стоимость участия: \\n33 500 руб.</td>\n",
       "      <td>NaN</td>\n",
       "      <td>Вебинар</td>\n",
       "      <td>NaN</td>\n",
       "      <td>{MicroServices, Containers}</td>\n",
       "      <td>{Курс}</td>\n",
       "      <td>Июль</td>\n",
       "    </tr>\n",
       "    <tr>\n",
       "      <th>https://it-events.com/events/18777</th>\n",
       "      <td>Почему коучинг может не работать?</td>\n",
       "      <td>2020-07-06</td>\n",
       "      <td>https://it-events.com/</td>\n",
       "      <td>https://it-events.com/events/18777</td>\n",
       "      <td>[]</td>\n",
       "      <td>19:00</td>\n",
       "      <td>[Екатерина Курилова расскажет и обсудит со зри...</td>\n",
       "      <td>[]</td>\n",
       "      <td>[]</td>\n",
       "      <td>https://itbizradio.timepad.ru/event/1348040/</td>\n",
       "      <td>Offline</td>\n",
       "      <td>[]</td>\n",
       "      <td></td>\n",
       "      <td>0</td>\n",
       "      <td>NaN</td>\n",
       "      <td>Вебинар</td>\n",
       "      <td>NaN</td>\n",
       "      <td>{}</td>\n",
       "      <td>{}</td>\n",
       "      <td>Июль</td>\n",
       "    </tr>\n",
       "    <tr>\n",
       "      <th>https://it-events.com/events/18770</th>\n",
       "      <td>Курс Бренд-Маркетинг</td>\n",
       "      <td>2020-07-06</td>\n",
       "      <td>https://it-events.com/</td>\n",
       "      <td>https://it-events.com/events/18770</td>\n",
       "      <td>[]</td>\n",
       "      <td>19:00</td>\n",
       "      <td>[Строим сильный бренд.\\nПройдите бесплатно вво...</td>\n",
       "      <td>[]</td>\n",
       "      <td>[]</td>\n",
       "      <td>https://clck.ru/NHY83</td>\n",
       "      <td>Offline</td>\n",
       "      <td>[]</td>\n",
       "      <td>Москва, Россия</td>\n",
       "      <td>Стоимость участия: \\n45 000 руб.</td>\n",
       "      <td>NaN</td>\n",
       "      <td>Курс</td>\n",
       "      <td>NaN</td>\n",
       "      <td>{Business}</td>\n",
       "      <td>{Практикум}</td>\n",
       "      <td>Июль</td>\n",
       "    </tr>\n",
       "    <tr>\n",
       "      <th>https://it-events.com/events/17819</th>\n",
       "      <td>Школа распределенных вычислений SPTDC 2020</td>\n",
       "      <td>2020-07-06</td>\n",
       "      <td>https://it-events.com/</td>\n",
       "      <td>https://it-events.com/events/17819</td>\n",
       "      <td>[]</td>\n",
       "      <td>10:00</td>\n",
       "      <td>[6-9 июля в Москве пройдет школа распределенны...</td>\n",
       "      <td>[]</td>\n",
       "      <td>[]</td>\n",
       "      <td>https://sptdc.ru/</td>\n",
       "      <td>Offline</td>\n",
       "      <td>[]</td>\n",
       "      <td>Москва, Россия</td>\n",
       "      <td>Стоимость участия: \\nуточняйте у организатора</td>\n",
       "      <td>NaN</td>\n",
       "      <td>Курс</td>\n",
       "      <td>NaN</td>\n",
       "      <td>{}</td>\n",
       "      <td>{}</td>\n",
       "      <td>Июль</td>\n",
       "    </tr>\n",
       "    <tr>\n",
       "      <th>https://it-events.com/events/18577</th>\n",
       "      <td>Онлайн-интенсив по Kubernetes (базовый уровень)</td>\n",
       "      <td>2020-07-06</td>\n",
       "      <td>https://it-events.com/</td>\n",
       "      <td>https://it-events.com/events/18577</td>\n",
       "      <td>[]</td>\n",
       "      <td>10:00</td>\n",
       "      <td>[Базовый практикум по Kubernetes 6-8 июля от у...</td>\n",
       "      <td>[]</td>\n",
       "      <td>[]</td>\n",
       "      <td>https://slurm.io/slurm</td>\n",
       "      <td>Offline</td>\n",
       "      <td>[]</td>\n",
       "      <td></td>\n",
       "      <td>Стоимость участия: 20 000 руб.</td>\n",
       "      <td>NaN</td>\n",
       "      <td>Курс</td>\n",
       "      <td>NaN</td>\n",
       "      <td>{Cloud, Containers}</td>\n",
       "      <td>{Практикум, Курс}</td>\n",
       "      <td>Июль</td>\n",
       "    </tr>\n",
       "  </tbody>\n",
       "</table>\n",
       "</div>"
      ],
      "text/plain": [
       "                                                                                title  \\\n",
       "https://it-events.com/events/18279  Школа DevOps приглашает на обновленный курс «D...   \n",
       "https://it-events.com/events/18777                  Почему коучинг может не работать?   \n",
       "https://it-events.com/events/18770                               Курс Бренд-Маркетинг   \n",
       "https://it-events.com/events/17819         Школа распределенных вычислений SPTDC 2020   \n",
       "https://it-events.com/events/18577    Онлайн-интенсив по Kubernetes (базовый уровень)   \n",
       "\n",
       "                                          date               start_url  \\\n",
       "https://it-events.com/events/18279  2020-07-06  https://it-events.com/   \n",
       "https://it-events.com/events/18777  2020-07-06  https://it-events.com/   \n",
       "https://it-events.com/events/18770  2020-07-06  https://it-events.com/   \n",
       "https://it-events.com/events/17819  2020-07-06  https://it-events.com/   \n",
       "https://it-events.com/events/18577  2020-07-06  https://it-events.com/   \n",
       "\n",
       "                                                             event_url themes  \\\n",
       "https://it-events.com/events/18279  https://it-events.com/events/18279     []   \n",
       "https://it-events.com/events/18777  https://it-events.com/events/18777     []   \n",
       "https://it-events.com/events/18770  https://it-events.com/events/18770     []   \n",
       "https://it-events.com/events/17819  https://it-events.com/events/17819     []   \n",
       "https://it-events.com/events/18577  https://it-events.com/events/18577     []   \n",
       "\n",
       "                                     time  \\\n",
       "https://it-events.com/events/18279  20:00   \n",
       "https://it-events.com/events/18777  19:00   \n",
       "https://it-events.com/events/18770  19:00   \n",
       "https://it-events.com/events/17819  10:00   \n",
       "https://it-events.com/events/18577  10:00   \n",
       "\n",
       "                                                                          description  \\\n",
       "https://it-events.com/events/18279  [Команда школы пересмотрела программу курса в ...   \n",
       "https://it-events.com/events/18777  [Екатерина Курилова расскажет и обсудит со зри...   \n",
       "https://it-events.com/events/18770  [Строим сильный бренд.\\nПройдите бесплатно вво...   \n",
       "https://it-events.com/events/17819  [6-9 июля в Москве пройдет школа распределенны...   \n",
       "https://it-events.com/events/18577  [Базовый практикум по Kubernetes 6-8 июля от у...   \n",
       "\n",
       "                                   speakers_companies speakers  \\\n",
       "https://it-events.com/events/18279                 []       []   \n",
       "https://it-events.com/events/18777                 []       []   \n",
       "https://it-events.com/events/18770                 []       []   \n",
       "https://it-events.com/events/17819                 []       []   \n",
       "https://it-events.com/events/18577                 []       []   \n",
       "\n",
       "                                                                          reg_url  \\\n",
       "https://it-events.com/events/18279  https://devops-school.ru/devops_engineer.html   \n",
       "https://it-events.com/events/18777   https://itbizradio.timepad.ru/event/1348040/   \n",
       "https://it-events.com/events/18770                          https://clck.ru/NHY83   \n",
       "https://it-events.com/events/17819                              https://sptdc.ru/   \n",
       "https://it-events.com/events/18577                         https://slurm.io/slurm   \n",
       "\n",
       "                                   online_status organizers        location  \\\n",
       "https://it-events.com/events/18279       Offline         []                   \n",
       "https://it-events.com/events/18777       Offline         []                   \n",
       "https://it-events.com/events/18770       Offline         []  Москва, Россия   \n",
       "https://it-events.com/events/17819       Offline         []  Москва, Россия   \n",
       "https://it-events.com/events/18577       Offline         []                   \n",
       "\n",
       "                                                                            price  \\\n",
       "https://it-events.com/events/18279               Стоимость участия: \\n33 500 руб.   \n",
       "https://it-events.com/events/18777                                              0   \n",
       "https://it-events.com/events/18770               Стоимость участия: \\n45 000 руб.   \n",
       "https://it-events.com/events/17819  Стоимость участия: \\nуточняйте у организатора   \n",
       "https://it-events.com/events/18577                 Стоимость участия: 20 000 руб.   \n",
       "\n",
       "                                   start event_type  type  \\\n",
       "https://it-events.com/events/18279   NaN    Вебинар   NaN   \n",
       "https://it-events.com/events/18777   NaN    Вебинар   NaN   \n",
       "https://it-events.com/events/18770   NaN       Курс   NaN   \n",
       "https://it-events.com/events/17819   NaN       Курс   NaN   \n",
       "https://it-events.com/events/18577   NaN       Курс   NaN   \n",
       "\n",
       "                                                           tags  \\\n",
       "https://it-events.com/events/18279  {MicroServices, Containers}   \n",
       "https://it-events.com/events/18777                           {}   \n",
       "https://it-events.com/events/18770                   {Business}   \n",
       "https://it-events.com/events/17819                           {}   \n",
       "https://it-events.com/events/18577          {Cloud, Containers}   \n",
       "\n",
       "                                                types month  \n",
       "https://it-events.com/events/18279             {Курс}  Июль  \n",
       "https://it-events.com/events/18777                 {}  Июль  \n",
       "https://it-events.com/events/18770        {Практикум}  Июль  \n",
       "https://it-events.com/events/17819                 {}  Июль  \n",
       "https://it-events.com/events/18577  {Практикум, Курс}  Июль  "
      ]
     },
     "execution_count": 369,
     "metadata": {},
     "output_type": "execute_result"
    }
   ],
   "source": [
    "df.head()"
   ]
  },
  {
   "cell_type": "markdown",
   "metadata": {
    "Collapsed": "false"
   },
   "source": [
    "# Собираем HTML-страницу и деплоим проект 💃"
   ]
  },
  {
   "cell_type": "markdown",
   "metadata": {
    "Collapsed": "false"
   },
   "source": [
    "Для сборки страницы используем BeautifulSoup. Страницу собираем, объединяя soup-объекты в один."
   ]
  },
  {
   "cell_type": "code",
   "execution_count": 370,
   "metadata": {
    "Collapsed": "false"
   },
   "outputs": [],
   "source": [
    "from bs4 import BeautifulSoup, Comment\n",
    "from itertools import zip_longest\n",
    "import copy\n",
    "\n",
    "with open(\"files/event_card_template.html\") as template:\n",
    "    template = BeautifulSoup(template.read(), 'html.parser')\n",
    "\n",
    "\n",
    "def add_info(template, data):\n",
    "    s = copy.copy(template)\n",
    "    \n",
    "    # Информационный блок\n",
    "    data_block = s.find(\"div\", {\"class\":\"event\"})\n",
    "    companies = [*data.organizers, *data.speakers_companies]\n",
    "    companies = \" \".join(list(set(companies))).strip()\n",
    "    data_block['data-companies'] = companies\n",
    "    \n",
    "    data_block['data-month'] = data.month\n",
    "    data_block['data-price'] = data.price\n",
    "    data_block['data-online'] = data.online_status\n",
    "    if data.tags:\n",
    "        data_block['data-tags'] = \", \".join(data.tags)\n",
    "    if data.types:\n",
    "        data_block['data-types'] = \", \".join(data.types)\n",
    "    if data.type == 'promo':\n",
    "        data_block['class'].append('promo')\n",
    "    \n",
    "    # Обработка заголовка\n",
    "    header = s.find(\"h2\")\n",
    "    header.string = data.title\n",
    "    \n",
    "    # Блок с описанием места и времени\n",
    "    time_and_space = s.find(\"p\", {\"class\":\"time_and_space\"})\n",
    "    s.time.string = langs.make_datetime_string(data.date, data.time)\n",
    "    s.time.wrap(s.new_tag('a', attrs={'href':data.event_url}))\n",
    "    if data.reg_url:\n",
    "        time_and_space.append(', ')\n",
    "        reg_url = s.new_tag('a', attrs={'href':data.reg_url})\n",
    "        reg_url.string = 'регистрация'\n",
    "        time_and_space.append(reg_url) \n",
    "    time_and_space.append('.')\n",
    "    \n",
    "    # Блок с темами и докладчиками\n",
    "    themes_and_speakers = s.find(\"p\", {\"class\":\"themes_and_speakers\"})\n",
    "    \n",
    "    if data.themes != ['']:\n",
    "        for theme in data.themes:\n",
    "            if theme:\n",
    "                line = s.new_tag('li')\n",
    "                line.string = theme\n",
    "                s.ul.append(line)\n",
    "    if data.speakers != ['']:\n",
    "        if len(data.speakers) == 1:\n",
    "            themes_and_speakers.append(f'👤 {data.speakers[0]}.')\n",
    "        else:\n",
    "            speakers_str = ', '.join(data.speakers)\n",
    "            themes_and_speakers.append(f'👥 {speakers_str}.')\n",
    "    if data.themes == [''] and data.speakers != ['']:\n",
    "        s.ul.extract()\n",
    "    if data.themes == [''] and data.speakers == ['']:\n",
    "        s.find(\"p\", {\"class\":\"themes_and_speakers\"}).extract()\n",
    "    \n",
    "    # Блок с описанием мероприятия\n",
    "    description = s.find(\"p\", {\"class\":\"description\"})\n",
    "    description.string = data.description[0]\n",
    "    \n",
    "    # Удаляем комментарии\n",
    "    for element in s(text = lambda text: isinstance(text, Comment)):\n",
    "        element.extract()\n",
    "\n",
    "    return s\n",
    "\n",
    "df['soup'] = df.apply(lambda x: add_info(template, x), axis=1)\n",
    "df['html'] = df['soup'].apply(lambda x: str(x))\n",
    "total = ''.join(df['html'])\n",
    "\n",
    "total += '''<div class=\"filter__msg\" hidden>\n",
    "<p>🕵 К сожалению, для выбранных фильтров пока\n",
    "нет ни одного подходящего мероприятия.</p></div>'''\n",
    "\n",
    "path_to_html_template = \"../mgio/11ty/_includes/events.njk\"\n",
    "with open(path_to_html_template, 'w', encoding='utf-8') as html_template:\n",
    "    html_template.write(f'{total}')"
   ]
  },
  {
   "cell_type": "markdown",
   "metadata": {},
   "source": [
    "Используем тот же подход для сборки меню фильтров. "
   ]
  },
  {
   "cell_type": "code",
   "execution_count": 374,
   "metadata": {},
   "outputs": [
    {
     "name": "stdout",
     "output_type": "stream",
     "text": [
      "Writing ../../matyushkin.github.io/README/index.html from ./README.md.\n",
      "Writing ../../matyushkin.github.io/index.html from ./index.html.\n",
      "Writing ../../matyushkin.github.io/404/index.html from ./404.html.\n",
      "Writing ../../matyushkin.github.io/cv/index.html from ./cv/index.html.\n",
      "Writing ../../matyushkin.github.io/donate/index.html from ./donate/index.html.\n",
      "Writing ../../matyushkin.github.io/events/index.html from ./events/index.html.\n",
      "Writing ../../matyushkin.github.io/links/index.html from ./links/index.html.\n",
      "Writing ../../matyushkin.github.io/spb/index.html from ./spb/index.html.\n",
      "Writing ../../matyushkin.github.io/posts/index.html from ./posts/index.html.\n",
      "Writing ../../matyushkin.github.io/texts/index.html from ./texts/index.html.\n",
      "Copied 18 files / Wrote 10 files in 0.21 seconds (21.0ms each, v0.11.0)\n"
     ]
    },
    {
     "data": {
      "text/plain": [
       "True"
      ]
     },
     "execution_count": 374,
     "metadata": {},
     "output_type": "execute_result"
    }
   ],
   "source": [
    "import langs\n",
    "\n",
    "all_tags = set(itertools.chain.from_iterable(df.tags))\n",
    "all_types = set(itertools.chain.from_iterable(df.types))\n",
    "all_locs = set(itertools.chain.from_iterable(df.location))\n",
    "all_months = langs.month_names_for_time_filters()[1:] + ['Позже', '∞']\n",
    "#all_types = set(itertools.chain.from_iterable(df.type))\n",
    "\n",
    "with open(\"files/event_filter_panel_template.html\") as filter_template:\n",
    "    filter_soup = BeautifulSoup(filter_template.read(), 'html.parser') \n",
    "\n",
    "\n",
    "def filter_item_append(name, value):\n",
    "    s = filter_soup.find('div', {'class':f'filter__container--{name}'}).div\n",
    "    t = filter_soup.new_tag('div')\n",
    "    t['class'] = 'filter__item filter__button'\n",
    "    t.string = value\n",
    "    s.append(t)\n",
    "    \n",
    "\n",
    "for tag in all_tags:\n",
    "    filter_item_append('tag', tag)\n",
    "\n",
    "for type_ in all_types:\n",
    "    filter_item_append('type', type_)\n",
    "\n",
    "for month in all_months:\n",
    "    filter_item_append('month', month)\n",
    "\n",
    "for loc in all_locs:\n",
    "    filter_item_append('location', loc)\n",
    "\n",
    "    \n",
    "with open(\"../mgio/11ty/_includes/events_filter.njk\", 'w', encoding='utf-8') as html_template:\n",
    "    html_template.write(str(filter_soup))\n",
    "    \n",
    "!cd ../mgio/11ty/; npx eleventy --passthroughall --output=../../matyushkin.github.io\n",
    "!cd ../matyushkin.github.io/; rm -rf 404\n",
    "!cd ../matyushkin.github.io/; rm -rf README\n",
    "\n",
    "\n",
    "# посмотрим, что получилось в браузере\n",
    "import webbrowser\n",
    "url = \"../matyushkin.github.io/events/index.html\"\n",
    "webbrowser.open_new_tab(url)"
   ]
  },
  {
   "cell_type": "code",
   "execution_count": null,
   "metadata": {
    "Collapsed": "false"
   },
   "outputs": [],
   "source": [
    "!cd ../matyushkin.github.io/; git add . ; git commit -m \"Events type filter is added\"; git push origin master"
   ]
  },
  {
   "cell_type": "code",
   "execution_count": 404,
   "metadata": {},
   "outputs": [
    {
     "ename": "NameError",
     "evalue": "name 'sentence' is not defined",
     "output_type": "error",
     "traceback": [
      "\u001b[0;31m---------------------------------------------------------------------------\u001b[0m",
      "\u001b[0;31mNameError\u001b[0m                                 Traceback (most recent call last)",
      "\u001b[0;32m<ipython-input-404-1a5a9794c4cf>\u001b[0m in \u001b[0;36m<module>\u001b[0;34m\u001b[0m\n\u001b[1;32m      1\u001b[0m \u001b[0;32mfor\u001b[0m \u001b[0mline\u001b[0m \u001b[0;32min\u001b[0m \u001b[0mtotal\u001b[0m\u001b[0;34m.\u001b[0m\u001b[0msplit\u001b[0m\u001b[0;34m(\u001b[0m\u001b[0;34m'.'\u001b[0m\u001b[0;34m)\u001b[0m\u001b[0;34m:\u001b[0m\u001b[0;34m\u001b[0m\u001b[0;34m\u001b[0m\u001b[0m\n\u001b[0;32m----> 2\u001b[0;31m     \u001b[0;32mif\u001b[0m \u001b[0msentence\u001b[0m\u001b[0;34m.\u001b[0m\u001b[0mlower\u001b[0m\u001b[0;34m(\u001b[0m\u001b[0;34m)\u001b[0m \u001b[0;32min\u001b[0m \u001b[0mline\u001b[0m\u001b[0;34m:\u001b[0m\u001b[0;34m\u001b[0m\u001b[0;34m\u001b[0m\u001b[0m\n\u001b[0m\u001b[1;32m      3\u001b[0m         \u001b[0mprint\u001b[0m\u001b[0;34m(\u001b[0m\u001b[0mline\u001b[0m\u001b[0;34m)\u001b[0m\u001b[0;34m\u001b[0m\u001b[0;34m\u001b[0m\u001b[0m\n",
      "\u001b[0;31mNameError\u001b[0m: name 'sentence' is not defined"
     ]
    }
   ],
   "source": [
    "for line in total.split('.'):\n",
    "    if sentence.lower() in line and <"
   ]
  },
  {
   "cell_type": "code",
   "execution_count": 377,
   "metadata": {},
   "outputs": [
    {
     "data": {
      "text/plain": [
       "['высокая степень востребованности',\n",
       " 'максимально комфортно и эффективно',\n",
       " 'подробная программа на сайте',\n",
       " 'программа курса представлена на сайте',\n",
       " 'строим сильный бренд']"
      ]
     },
     "execution_count": 377,
     "metadata": {},
     "output_type": "execute_result"
    }
   ],
   "source": [
    "files.events_bad['sentences']"
   ]
  },
  {
   "cell_type": "code",
   "execution_count": null,
   "metadata": {},
   "outputs": [],
   "source": []
  }
 ],
 "metadata": {
  "kernelspec": {
   "display_name": "Python 3",
   "language": "python",
   "name": "python3"
  },
  "language_info": {
   "codemirror_mode": {
    "name": "ipython",
    "version": 3
   },
   "file_extension": ".py",
   "mimetype": "text/x-python",
   "name": "python",
   "nbconvert_exporter": "python",
   "pygments_lexer": "ipython3",
   "version": "3.7.6"
  }
 },
 "nbformat": 4,
 "nbformat_minor": 4
}
