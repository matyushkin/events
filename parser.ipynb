{
 "cells": [
  {
   "cell_type": "markdown",
   "metadata": {},
   "source": [
    "🕺 This ipynb file is draft for aggregation models for free events about IT and programming: webinars, hackathons, broadcasts and courses.\n",
    "\n",
    "# Strategy\n",
    "Shortly: first we check the main pages, then event pages\n",
    "\n",
    "- Load `pages.json` - information about start wepbages: `name`, `url`, `func`\n",
    "- Load `events.json` - information about current events:\n",
    "    - `title`,\n",
    "    - `desciption url`,\n",
    "    - `registration url`,\n",
    "    - `event time`\n",
    "    - `location`\n",
    "    - `online status`\n",
    "    - `cost`\n",
    "    - `[tags]`\n",
    "    - `language`\n",
    "    - `speakers and themes (optional)`\n",
    "    - `type (optional)`\n",
    "- Check that events on the main pages are displayed in `events.json`\n",
    "- If the event is not in the file, we need to add basic information about it on the second stage\n",
    "- Past events are transfered to `past_events.json`\n",
    "- On the next stage if any information is missing, we need to supplement it by going to specific url and parse the page"
   ]
  },
  {
   "cell_type": "code",
   "execution_count": 1,
   "metadata": {},
   "outputs": [],
   "source": [
    "import json\n",
    "import requests\n",
    "from datetime import datetime\n",
    "from bs4 import BeautifulSoup"
   ]
  },
  {
   "cell_type": "code",
   "execution_count": 41,
   "metadata": {},
   "outputs": [],
   "source": [
    "headers = requests.utils.default_headers()\n",
    "current_date = datetime.today()\n",
    "\n",
    "with open('pages.json') as events_file:\n",
    "    pages = json.load(events_file)\n",
    "    \n",
    "with open('events.json') as events_file:\n",
    "    pages = json.load(events_file)\n",
    "\n",
    "date_alias = {'rus':\n",
    "                 {'weekdays':\n",
    "                    {'short': ('пн', 'вт', 'ср', 'чт', 'пт', 'сб', 'вс')},\n",
    "                  'months':\n",
    "                    {'gentive': ('января', 'февраля', 'марта',\n",
    "                                 'апреля', 'мая', 'июня',\n",
    "                                 'июля', 'августа', 'сентября',\n",
    "                                 'октября', 'ноября', 'декабря')}\n",
    "                 }\n",
    "              }\n",
    "\n",
    "    \n",
    "class Event:\n",
    "    def __init__(self, data):\n",
    "        self.url = data['url']\n",
    "        self.title = data['title']\n",
    "        self.date = data['date']\n",
    "\n",
    "\n",
    "def main_parser():\n",
    "    '''Evaluates other parser functions for websites from events.json'''\n",
    "    for page in pages:\n",
    "        name = pages[page]['name']\n",
    "        url = pages[page]['url']\n",
    "        func = pages[page]['func']\n",
    "        eval(f'{func}(\"{name}\", \"{url}\")')"
   ]
  },
  {
   "cell_type": "code",
   "execution_count": 46,
   "metadata": {},
   "outputs": [
    {
     "name": "stdout",
     "output_type": "stream",
     "text": [
      "Parsing page Мероприятия Яндекса at https://events.yandex.ru/\n",
      "2020-06-09 00:00:00\n",
      "2020-06-09 00:00:00\n",
      "2020-06-04 00:00:00\n",
      "2020-06-04 00:00:00\n",
      "2020-06-04 00:00:00\n",
      "2020-06-04 00:00:00\n",
      "2020-06-04 00:00:00\n",
      "2020-06-04 00:00:00\n",
      "2020-06-04 00:00:00\n",
      "2020-06-04 00:00:00\n",
      "2020-05-29 00:00:00\n",
      "2020-05-29 00:00:00\n",
      "2020-05-29 00:00:00\n",
      "2020-05-29 00:00:00\n",
      "2020-05-27 00:00:00\n",
      "2020-05-27 00:00:00\n"
     ]
    }
   ],
   "source": [
    "def yandex_date_converter(date_string):\n",
    "    '''Parsing date in format вт, 9 июня'''\n",
    "    lang = 'rus'\n",
    "    weekdays = date_alias[lang]['weekdays']['short']\n",
    "    months = date_alias[lang]['months']['gentive']\n",
    "    \n",
    "    # преобразуем дату из строки\n",
    "    weekday, event_day, month = date_string.split()\n",
    "    event_day = int(event_day)\n",
    "    event_month = months.index(month) + 1\n",
    "    event_weekday = weekdays.index(weekday[:-1])\n",
    "    event_year = current_date.year\n",
    "    \n",
    "    # рассматриваем случай конца года: слишком старые записи не хранят\n",
    "    # но во второй половине года могут быть записи на следующий год\n",
    "    if (event_month-current_date.month) < -3:\n",
    "        event_year += 1\n",
    "\n",
    "    event_date = datetime(event_year, event_month, event_day)\n",
    "    if event_date.weekday() == event_weekday:\n",
    "        return event_date\n",
    "    \n",
    "\n",
    "def yandex(name='Мероприятия Яндекса', url='https://events.yandex.ru/'):\n",
    "    print(f'Parsing page {name} at {url}')\n",
    "    page = requests.get(url, headers=headers).text\n",
    "    soup = BeautifulSoup(page, 'html.parser')\n",
    "    event_cards = soup.body.find_all('div', {'class':'event-card'})\n",
    "    for event_card in event_cards:\n",
    "        date_string = event_card.find('div', {'class':'event-card__date'}).text\n",
    "        event_date = yandex_date_converter(date_string)\n",
    "        data = {'url':event_card.a['href'],\n",
    "                'title':event_card.a['title'],\n",
    "                'date': event_date}\n",
    "        event = Event(data)\n",
    "        print(event.date)\n",
    "    return event_cards\n",
    "\n",
    "events_list = yandex()"
   ]
  },
  {
   "cell_type": "code",
   "execution_count": null,
   "metadata": {},
   "outputs": [],
   "source": []
  }
 ],
 "metadata": {
  "kernelspec": {
   "display_name": "Python 3",
   "language": "python",
   "name": "python3"
  },
  "language_info": {
   "codemirror_mode": {
    "name": "ipython",
    "version": 3
   },
   "file_extension": ".py",
   "mimetype": "text/x-python",
   "name": "python",
   "nbconvert_exporter": "python",
   "pygments_lexer": "ipython3",
   "version": "3.7.6"
  }
 },
 "nbformat": 4,
 "nbformat_minor": 4
}
