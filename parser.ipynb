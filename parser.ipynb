{
 "cells": [
  {
   "cell_type": "markdown",
   "metadata": {},
   "source": [
    "🕺 This ipynb file is draft for aggregation models for free events about IT and programming: webinars, hackathons, broadcasts and courses.\n",
    "\n",
    "# Strategy\n",
    "Shortly: first we check the main pages, then event pages\n",
    "\n",
    "- Load `pages.json` - information about start wepbages: `name`, `url`, `func`\n",
    "- Load `events.json` - information about current events:\n",
    "    - `title`,\n",
    "    - `desciption url`,\n",
    "    - `registration url`,\n",
    "    - `date`\n",
    "    - `time`\n",
    "    - `location`\n",
    "    - `online status`\n",
    "    - `cost`\n",
    "    - `[tags]`\n",
    "    - `language`\n",
    "    - `speakers and themes (optional)`\n",
    "    - `type (optional)`\n",
    "- Check that events on the main pages are displayed in `events.json`\n",
    "- If the event is not in the file, we need to add basic information about it on the second stage\n",
    "- Past events are transfered to `past_events.json`\n",
    "- On the next stage if any information is missing, we need to supplement it by going to specific url and parse the page"
   ]
  },
  {
   "cell_type": "code",
   "execution_count": 122,
   "metadata": {},
   "outputs": [],
   "source": [
    "import json\n",
    "import requests\n",
    "from datetime import datetime, date\n",
    "from bs4 import BeautifulSoup"
   ]
  },
  {
   "cell_type": "code",
   "execution_count": 125,
   "metadata": {},
   "outputs": [
    {
     "data": {
      "text/plain": [
       "datetime.date(2020, 6, 1)"
      ]
     },
     "execution_count": 125,
     "metadata": {},
     "output_type": "execute_result"
    }
   ],
   "source": [
    "date.today()"
   ]
  },
  {
   "cell_type": "code",
   "execution_count": 139,
   "metadata": {},
   "outputs": [],
   "source": [
    "headers = requests.utils.default_headers()\n",
    "current_date = date.today()\n",
    "\n",
    "with open('pages.json') as pages_file:\n",
    "    pages = json.load(pages_file)\n",
    "    \n",
    "with open('events.json') as events_file:\n",
    "    events = json.load(events_file)\n",
    "\n",
    "date_alias = {'rus':\n",
    "                 {'weekdays':\n",
    "                    {'short': ('пн', 'вт', 'ср', 'чт', 'пт', 'сб', 'вс')},\n",
    "                  'months':\n",
    "                    {'gentive': ('января', 'февраля', 'марта',\n",
    "                                 'апреля', 'мая', 'июня',\n",
    "                                 'июля', 'августа', 'сентября',\n",
    "                                 'октября', 'ноября', 'декабря')}\n",
    "                 }\n",
    "              }\n",
    "\n",
    "    \n",
    "class Event:\n",
    "    def __init__(self, data):\n",
    "        self.data = data\n",
    "        self.update()\n",
    "    \n",
    "    def update(self):\n",
    "        url = self.data['url']\n",
    "        events[url] = {}\n",
    "        for key in self.data:\n",
    "            events[url][key] = self.data[key]\n",
    "    \n",
    "\n",
    "def main_parser():\n",
    "    '''Evaluates other parser functions for websites from events.json'''\n",
    "    for page in pages:\n",
    "        name = pages[page]['name']\n",
    "        url = pages[page]['url']\n",
    "        func = pages[page]['func']\n",
    "        eval(f'{func}(\"{name}\", \"{url}\")')"
   ]
  },
  {
   "cell_type": "code",
   "execution_count": 140,
   "metadata": {},
   "outputs": [
    {
     "name": "stdout",
     "output_type": "stream",
     "text": [
      "Parsing page Мероприятия Яндекса at https://events.yandex.ru/\n",
      "{'url': 'https://events.yandex.ru/events/vstrecha-rossijskoj-r-09-06-2020', 'title': 'Встреча Российской рабочей группы по стандартизации С++', 'date': '2020-06-09'}\n",
      "{'url': 'https://events.yandex.ru/events/tutorial-catboost-04-06-2020', 'title': 'Туториал: новые фичи CatBoost', 'date': '2020-06-04'}\n",
      "{'url': 'https://events.yandex.ru/events/toloka-04-06-2020', 'title': 'Вебинар по разметке больших массивов данных от Яндекс.Толоки и Dbrain', 'date': '2020-06-04'}\n",
      "{'url': 'https://cloud.yandex.ru/events/137', 'title': 'Облако в сфере образования', 'date': '2020-06-04'}\n",
      "{'url': 'http://yandex.ru/promo/events/online/kazakhstan?utm_source=events&utm_medium=post&utm_campaign=event', 'title': 'Яндекс для Казахстана: как продолжить бизнес в новой реальности', 'date': '2020-06-04'}\n",
      "{'url': 'https://events.yandex.ru/events/hardware/29-may-2020', 'title': 'Я.Железо: разбираем Яндекс.Станцию Мини в прямом эфире', 'date': '2020-05-29'}\n",
      "{'url': 'https://cloud.yandex.ru/events/131', 'title': 'Вебинар. CI/CD в Облаке с помощью GitLab', 'date': '2020-05-29'}\n",
      "{'url': 'https://events.yandex.ru/events/pytup-27-05-2020', 'title': 'Pytup', 'date': '2020-05-27'}\n"
     ]
    }
   ],
   "source": [
    "def yandex_date_converter(date_string):\n",
    "    '''Parsing date in format вт, 9 июня'''\n",
    "    lang = 'rus'\n",
    "    weekdays = date_alias[lang]['weekdays']['short']\n",
    "    months = date_alias[lang]['months']['gentive']\n",
    "    \n",
    "    # преобразуем дату из строки\n",
    "    weekday, event_day, month = date_string.split()\n",
    "    event_day = int(event_day)\n",
    "    event_month = months.index(month) + 1\n",
    "    event_weekday = weekdays.index(weekday[:-1])\n",
    "    event_year = current_date.year\n",
    "    \n",
    "    # рассматриваем случай конца года: слишком старые записи не хранят\n",
    "    # но во второй половине года могут быть записи на следующий год\n",
    "    if (event_month-current_date.month) < -3:\n",
    "        event_year += 1\n",
    "\n",
    "    event_date = date(event_year, event_month, event_day)\n",
    "    if event_date.weekday() == event_weekday:\n",
    "        return event_date.isoformat()\n",
    "    \n",
    "\n",
    "def yandex(name='Мероприятия Яндекса', url='https://events.yandex.ru/'):\n",
    "    print(f'Parsing page {name} at {url}')\n",
    "    page = requests.get(url, headers=headers).text\n",
    "    soup = BeautifulSoup(page, 'html.parser')\n",
    "    event_cards = soup.body.find_all('div', {'class':'event-card'})\n",
    "    for event_card in event_cards:\n",
    "        date_string = event_card.find('div', {'class':'event-card__date'}).text\n",
    "        event_date = yandex_date_converter(date_string)\n",
    "        event_url = event_card.a['href']\n",
    "        if 'http' not in event_url:\n",
    "            event_url = url[:-1] + event_url\n",
    "        data = {'url':event_url,\n",
    "                'title':event_card.a['title'],\n",
    "                'date': event_date}\n",
    "        event = Event(data)\n",
    "        print(event.data)\n",
    "    return event_cards\n",
    "\n",
    "\n",
    "events_list = yandex()"
   ]
  },
  {
   "cell_type": "code",
   "execution_count": 141,
   "metadata": {},
   "outputs": [],
   "source": [
    "with open('events.json', 'w') as events_file:\n",
    "    json.dump(events, events_file)"
   ]
  }
 ],
 "metadata": {
  "kernelspec": {
   "display_name": "Python 3",
   "language": "python",
   "name": "python3"
  },
  "language_info": {
   "codemirror_mode": {
    "name": "ipython",
    "version": 3
   },
   "file_extension": ".py",
   "mimetype": "text/x-python",
   "name": "python",
   "nbconvert_exporter": "python",
   "pygments_lexer": "ipython3",
   "version": "3.7.6"
  }
 },
 "nbformat": 4,
 "nbformat_minor": 4
}
