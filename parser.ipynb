{
 "cells": [
  {
   "cell_type": "markdown",
   "metadata": {},
   "source": [
    "🕺 This ipynb file is draft for aggregation models for free events about IT and programming: webinars, hackathons, broadcasts and courses.\n",
    "\n",
    "# Files system\n",
    "- `pages.json` - information about start wepbages:\n",
    "    - `name`\n",
    "    - `url`\n",
    "    - `func`\n",
    "- `events.json` - simple database about events\n",
    "- this ipynb file is for parsing experiments\n",
    "- `events.py` - stable source file to generate data\n"
   ]
  },
  {
   "cell_type": "code",
   "execution_count": 94,
   "metadata": {},
   "outputs": [],
   "source": [
    "import json  # for events.json file\n",
    "import requests\n",
    "from datetime import datetime\n",
    "from bs4 import BeautifulSoup\n",
    "#soup = BeautifulSoup(html_doc, 'html.parser')\n"
   ]
  },
  {
   "cell_type": "code",
   "execution_count": 123,
   "metadata": {},
   "outputs": [
    {
     "name": "stdout",
     "output_type": "stream",
     "text": [
      "Parsing page Мероприятия Яндекса at https://events.yandex.ru/\n",
      "вт, 9 июня\n",
      "чт, 4 июня\n",
      "чт, 4 июня\n",
      "чт, 4 июня\n",
      "чт, 4 июня\n",
      "пт, 29 мая\n",
      "пт, 29 мая\n",
      "ср, 27 мая\n"
     ]
    }
   ],
   "source": [
    "headers = requests.utils.default_headers()\n",
    "\n",
    "with open('pages.json') as events_file:\n",
    "    pages = json.load(events_file)\n",
    "\n",
    "date_alias = {'rus':\n",
    "                 {'weekdays':\n",
    "                    {'short': ('пн', 'вт', 'ср', 'чт', 'пт', 'сб', 'вс')},\n",
    "                  'months':\n",
    "                    {'gentive': ('января', 'февраля', 'марта',\n",
    "                                 'апреля', 'мая', 'июня',\n",
    "                                 'июля', 'августа', 'сентября',\n",
    "                                 'октября', 'ноября', 'декабря')}\n",
    "                 }\n",
    "              }\n",
    "\n",
    "\n",
    "    \n",
    "class Event:\n",
    "    def __init__(self, data):\n",
    "        self.url = data['url']\n",
    "        self.title = data['title']\n",
    "        self.date = data['date']\n",
    "        print(self.date)\n",
    "\n",
    "\n",
    "def yandex(name='Мероприятия Яндекса', url='https://events.yandex.ru/'):\n",
    "    print(f'Parsing page {name} at {url}')\n",
    "    page = requests.get(url, headers=headers).text\n",
    "    soup = BeautifulSoup(page, 'html.parser')\n",
    "    event_cards = soup.body.find_all('div', {'class':'event-card'})\n",
    "    for event_card in event_cards:\n",
    "        data = {'url':event_card.a['href'],\n",
    "                'title':event_card.a['title'],\n",
    "                'date':event_card.find('div', {'class':'event-card__date'}).text}\n",
    "        Event(data)\n",
    "    return event_cards\n",
    "\n",
    "\n",
    "def main_parser():\n",
    "    '''Evaluates other parser functions for websites from events.json'''\n",
    "    for page in pages:\n",
    "        name = pages[page]['name']\n",
    "        url = pages[page]['url']\n",
    "        func = pages[page]['func']\n",
    "        eval(f'{func}(\"{name}\", \"{url}\")')\n",
    "        \n",
    "events_list = yandex()"
   ]
  },
  {
   "cell_type": "code",
   "execution_count": 126,
   "metadata": {},
   "outputs": [
    {
     "name": "stdout",
     "output_type": "stream",
     "text": [
      "ср 27 4\n"
     ]
    }
   ],
   "source": [
    "def yandex_date_converter(date_string):\n",
    "    lang = 'rus'\n",
    "    weekdays = date_alias[lang]['weekdays']['short']\n",
    "    months = date_alias[lang]['months']['gentive']\n",
    "    weekday, day, month = date_string.split()\n",
    "    print(weekday[:-1], day, months.index(month))\n",
    "\n",
    "\n",
    "yandex_date_converter(date_string='ср, 27 мая')"
   ]
  },
  {
   "cell_type": "code",
   "execution_count": null,
   "metadata": {},
   "outputs": [],
   "source": []
  }
 ],
 "metadata": {
  "kernelspec": {
   "display_name": "Python 3",
   "language": "python",
   "name": "python3"
  },
  "language_info": {
   "codemirror_mode": {
    "name": "ipython",
    "version": 3
   },
   "file_extension": ".py",
   "mimetype": "text/x-python",
   "name": "python",
   "nbconvert_exporter": "python",
   "pygments_lexer": "ipython3",
   "version": "3.7.6"
  }
 },
 "nbformat": 4,
 "nbformat_minor": 4
}
