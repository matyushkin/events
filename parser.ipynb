{
 "cells": [
  {
   "cell_type": "markdown",
   "metadata": {
    "jupyter": {
     "source_hidden": true
    }
   },
   "source": [
    "🕺 This ipynb file is draft for aggregation models for free events about IT and programming: webinars, hackathons, broadcasts and courses.\n",
    "\n",
    "# TODO:\n",
    "- Extract file imports in one file\n",
    "- Make specific module for yandex features and common handler class\n",
    "- For hand-written content: update of events may be not safe\n",
    "- Write parser for pages of yandex events: div class:events-info\n",
    "    - Handlers for required_event_keys:\n",
    "        + 'url'\n",
    "        + 'title'\n",
    "        + 'date'\n",
    "        + 'time'\n",
    "        + 'location': div class=\"events-info__location\"\n",
    "        + 'online status'\n",
    "    - Handlers for optional_event_keys\n",
    "        + 'registration_url': Registration link \n",
    "        + 'price'\n",
    "        + 'tags'\n",
    "        + 'language'\n",
    "        + 'speakers'\n",
    "        + 'themes'\n",
    "        - 'type'\n",
    "    - Check if all required values for the event are found\n",
    "\n",
    "# Strategy\n",
    "Shortly: first we check the main pages, then event pages\n",
    "\n",
    "- Load `pages.json` - information about start wepbages: `name`, `url`, `func`\n",
    "- Load `events.json` - information about current events:\n",
    "    - `title`,\n",
    "    - `url` (description),\n",
    "    - `registration url` (optional, often the same as description url),\n",
    "    - `date`\n",
    "    - `time`\n",
    "    - `location`\n",
    "    - `online status`\n",
    "    - `price`\n",
    "    - `[tags]`\n",
    "    - `language` (can be checked by lang of theme)\n",
    "    - `speakers and themes (optional)`\n",
    "    - `type (optional)`\n",
    "- Check that events on the main pages are displayed in `events.json`\n",
    "- If the event is not in the file, we need to add basic information about it on the second stage\n",
    "- Past events are transfered to `past_events.json`\n",
    "- On the next stage if any information is missing, we need to supplement it by going to specific url and parse the page\n",
    "- For registration url we will add utm information"
   ]
  },
  {
   "cell_type": "code",
   "execution_count": 1,
   "metadata": {},
   "outputs": [],
   "source": [
    "import json\n",
    "\n",
    "# custom packages\n",
    "import files\n",
    "import soups\n",
    "import urls\n",
    "import handlers"
   ]
  },
  {
   "cell_type": "markdown",
   "metadata": {},
   "source": [
    "Узнаем, какие из стартовых страниц, перечисленных в `files.pages`, размечены. Такие страницы содержат все поля, перечисленные `files.fields`."
   ]
  },
  {
   "cell_type": "code",
   "execution_count": 2,
   "metadata": {},
   "outputs": [
    {
     "data": {
      "text/plain": [
       "['Яндекс']"
      ]
     },
     "execution_count": 2,
     "metadata": {},
     "output_type": "execute_result"
    }
   ],
   "source": [
    "pages_checked = files.pages_checked()\n",
    "pages_checked"
   ]
  },
  {
   "cell_type": "markdown",
   "metadata": {},
   "source": [
    "Для обработки полей, описывающих события, логична следующая последовательность:\n",
    "- Поля, считываемые со стартовой страницы\n",
    "- Поля, расположенные на странице мероприятия\n",
    "- Поля, получаемые из анализа предобработанных полей"
   ]
  },
  {
   "cell_type": "code",
   "execution_count": 3,
   "metadata": {},
   "outputs": [
    {
     "data": {
      "text/plain": [
       "{'start': ['event_url', 'title', 'date'],\n",
       " 'event': ['time',\n",
       "  'location',\n",
       "  'online_status',\n",
       "  'price',\n",
       "  'reg_url',\n",
       "  'themes',\n",
       "  'speakers',\n",
       "  'speakers_companies',\n",
       "  'organizers',\n",
       "  'prize'],\n",
       " 'analysis': ['language', 'tags', 'event_type']}"
      ]
     },
     "execution_count": 3,
     "metadata": {},
     "output_type": "execute_result"
    }
   ],
   "source": [
    "files.fields_order('Яндекс')    "
   ]
  },
  {
   "cell_type": "code",
   "execution_count": 4,
   "metadata": {},
   "outputs": [],
   "source": [
    "# def start_page_processing(name):\n",
    "#     start_url = files.pages[name]['start_url']\n",
    "#     print(f'Parsing page {name} at {}')\n",
    "#     soup = soups.get(start_url)\n",
    "#     event_cards = soup.body.find_all('div', {'class':'event-card'})\n",
    "#     for event_card in event_cards:\n",
    "#         date_string = event_card.find('div', {'class':'event-card__date'}).text\n",
    "#         event_date = yandex.date_converter(date_string)\n",
    "#         event_url = event_card.a['href']\n",
    "#         event_url = urls.add_home(event_url, start_url)\n",
    "#         print(event_url)\n",
    "#         events[event_url] = {'start':name,\n",
    "#                              'event_url':event_url,\n",
    "#                              'title':event_card.a['title'],\n",
    "#                              'date':event_date}"
   ]
  },
  {
   "cell_type": "code",
   "execution_count": 5,
   "metadata": {},
   "outputs": [
    {
     "name": "stdout",
     "output_type": "stream",
     "text": [
      "Яндекс event_url\n",
      "event-card__title\n",
      "Яндекс title\n",
      "event-card__title\n",
      "Яндекс date\n",
      "event-card__date\n"
     ]
    }
   ],
   "source": [
    "name = 'Яндекс'\n",
    "\n",
    "start_fields = files.fields_order(name)['start']\n",
    "start_url = files.pages[name]['start_url']\n",
    "start = dict()\n",
    "\n",
    "for field in start_fields:\n",
    "    start[field] = files.get_content(name, start_url, field)"
   ]
  },
  {
   "cell_type": "code",
   "execution_count": 10,
   "metadata": {},
   "outputs": [],
   "source": [
    "for i, event_url in enumerate(start['event_url']):\n",
    "    event_url = handlers.event_url(event_url, name)\n",
    "    files.events[event_url] = {}\n",
    "    files.events[event_url]['start_page'] = name\n",
    "    for field in start_fields:\n",
    "        if field != 'event_url':\n",
    "            files.events[event_url][field] = start[field][i]"
   ]
  },
  {
   "cell_type": "code",
   "execution_count": 11,
   "metadata": {},
   "outputs": [
    {
     "data": {
      "text/plain": [
       "{'https://events.yandex.ru/events/yasubbotnik/4-jul-2020': {'start_page': 'Яндекс',\n",
       "  'title': 'Я.Субботник по разработке интерфейсов. Онлайн, темы выбираете вы!',\n",
       "  'date': 'сб, 4 июля'},\n",
       " 'https://cloud.yandex.ru/events/145': {'start_page': 'Яндекс',\n",
       "  'title': 'about:cloud – бессерверные технологии и IoT',\n",
       "  'date': 'чт, 2 июля'},\n",
       " 'https://cloud.yandex.ru/events/143': {'start_page': 'Яндекс',\n",
       "  'title': 'Вебинар. Как работает сеть в Облаке',\n",
       "  'date': 'вт, 30 июня'},\n",
       " 'https://events.yandex.ru/events/zen-meetup/26-06-2020': {'start_page': 'Яндекс',\n",
       "  'title': 'Дзен-митап: видеорекомендации. Онлайн',\n",
       "  'date': 'пт, 26 июня'},\n",
       " 'https://events.yandex.ru/events/bugs-busters-25-06-2020': {'start_page': 'Яндекс',\n",
       "  'title': 'BugsBusters',\n",
       "  'date': 'чт, 25 июня'},\n",
       " 'https://cloud.yandex.ru/events/138': {'start_page': 'Яндекс',\n",
       "  'title': 'Вебинар. Начало пути в GameDev',\n",
       "  'date': 'чт, 25 июня'},\n",
       " 'https://cloud.yandex.ru/events/140': {'start_page': 'Яндекс',\n",
       "  'title': 'Вебинар. Обзор сервисов управления ключами и сертификатами',\n",
       "  'date': 'вт, 23 июня'},\n",
       " 'https://events.yandex.ru/events/hardware/19-june-2020': {'start_page': 'Яндекс',\n",
       "  'title': 'Я.Железо: цифровая обработка сигналов',\n",
       "  'date': 'пт, 19 июня'}}"
      ]
     },
     "execution_count": 11,
     "metadata": {},
     "output_type": "execute_result"
    }
   ],
   "source": [
    "files.events"
   ]
  },
  {
   "cell_type": "code",
   "execution_count": 12,
   "metadata": {},
   "outputs": [
    {
     "ename": "TypeError",
     "evalue": "Object of type TextIOWrapper is not JSON serializable",
     "output_type": "error",
     "traceback": [
      "\u001b[0;31m---------------------------------------------------------------------------\u001b[0m",
      "\u001b[0;31mTypeError\u001b[0m                                 Traceback (most recent call last)",
      "\u001b[0;32m<ipython-input-12-84840b9bd0ff>\u001b[0m in \u001b[0;36m<module>\u001b[0;34m\u001b[0m\n\u001b[1;32m      1\u001b[0m \u001b[0;32mwith\u001b[0m \u001b[0mopen\u001b[0m\u001b[0;34m(\u001b[0m\u001b[0;34m'events.json'\u001b[0m\u001b[0;34m,\u001b[0m \u001b[0;34m'w'\u001b[0m\u001b[0;34m,\u001b[0m \u001b[0mencoding\u001b[0m\u001b[0;34m=\u001b[0m\u001b[0;34m'utf-8'\u001b[0m\u001b[0;34m)\u001b[0m \u001b[0;32mas\u001b[0m \u001b[0mevents\u001b[0m\u001b[0;34m:\u001b[0m\u001b[0;34m\u001b[0m\u001b[0;34m\u001b[0m\u001b[0m\n\u001b[0;32m----> 2\u001b[0;31m     \u001b[0mjson\u001b[0m\u001b[0;34m.\u001b[0m\u001b[0mdump\u001b[0m\u001b[0;34m(\u001b[0m\u001b[0mevents\u001b[0m\u001b[0;34m,\u001b[0m \u001b[0mevents_file\u001b[0m\u001b[0;34m,\u001b[0m \u001b[0mensure_ascii\u001b[0m\u001b[0;34m=\u001b[0m\u001b[0;32mFalse\u001b[0m\u001b[0;34m)\u001b[0m\u001b[0;34m\u001b[0m\u001b[0;34m\u001b[0m\u001b[0m\n\u001b[0m",
      "\u001b[0;32m~/anaconda3/lib/python3.7/json/__init__.py\u001b[0m in \u001b[0;36mdump\u001b[0;34m(obj, fp, skipkeys, ensure_ascii, check_circular, allow_nan, cls, indent, separators, default, sort_keys, **kw)\u001b[0m\n\u001b[1;32m    177\u001b[0m     \u001b[0;31m# could accelerate with writelines in some versions of Python, at\u001b[0m\u001b[0;34m\u001b[0m\u001b[0;34m\u001b[0m\u001b[0;34m\u001b[0m\u001b[0m\n\u001b[1;32m    178\u001b[0m     \u001b[0;31m# a debuggability cost\u001b[0m\u001b[0;34m\u001b[0m\u001b[0;34m\u001b[0m\u001b[0;34m\u001b[0m\u001b[0m\n\u001b[0;32m--> 179\u001b[0;31m     \u001b[0;32mfor\u001b[0m \u001b[0mchunk\u001b[0m \u001b[0;32min\u001b[0m \u001b[0miterable\u001b[0m\u001b[0;34m:\u001b[0m\u001b[0;34m\u001b[0m\u001b[0;34m\u001b[0m\u001b[0m\n\u001b[0m\u001b[1;32m    180\u001b[0m         \u001b[0mfp\u001b[0m\u001b[0;34m.\u001b[0m\u001b[0mwrite\u001b[0m\u001b[0;34m(\u001b[0m\u001b[0mchunk\u001b[0m\u001b[0;34m)\u001b[0m\u001b[0;34m\u001b[0m\u001b[0;34m\u001b[0m\u001b[0m\n\u001b[1;32m    181\u001b[0m \u001b[0;34m\u001b[0m\u001b[0m\n",
      "\u001b[0;32m~/anaconda3/lib/python3.7/json/encoder.py\u001b[0m in \u001b[0;36m_iterencode\u001b[0;34m(o, _current_indent_level)\u001b[0m\n\u001b[1;32m    436\u001b[0m                     \u001b[0;32mraise\u001b[0m \u001b[0mValueError\u001b[0m\u001b[0;34m(\u001b[0m\u001b[0;34m\"Circular reference detected\"\u001b[0m\u001b[0;34m)\u001b[0m\u001b[0;34m\u001b[0m\u001b[0;34m\u001b[0m\u001b[0m\n\u001b[1;32m    437\u001b[0m                 \u001b[0mmarkers\u001b[0m\u001b[0;34m[\u001b[0m\u001b[0mmarkerid\u001b[0m\u001b[0;34m]\u001b[0m \u001b[0;34m=\u001b[0m \u001b[0mo\u001b[0m\u001b[0;34m\u001b[0m\u001b[0;34m\u001b[0m\u001b[0m\n\u001b[0;32m--> 438\u001b[0;31m             \u001b[0mo\u001b[0m \u001b[0;34m=\u001b[0m \u001b[0m_default\u001b[0m\u001b[0;34m(\u001b[0m\u001b[0mo\u001b[0m\u001b[0;34m)\u001b[0m\u001b[0;34m\u001b[0m\u001b[0;34m\u001b[0m\u001b[0m\n\u001b[0m\u001b[1;32m    439\u001b[0m             \u001b[0;32myield\u001b[0m \u001b[0;32mfrom\u001b[0m \u001b[0m_iterencode\u001b[0m\u001b[0;34m(\u001b[0m\u001b[0mo\u001b[0m\u001b[0;34m,\u001b[0m \u001b[0m_current_indent_level\u001b[0m\u001b[0;34m)\u001b[0m\u001b[0;34m\u001b[0m\u001b[0;34m\u001b[0m\u001b[0m\n\u001b[1;32m    440\u001b[0m             \u001b[0;32mif\u001b[0m \u001b[0mmarkers\u001b[0m \u001b[0;32mis\u001b[0m \u001b[0;32mnot\u001b[0m \u001b[0;32mNone\u001b[0m\u001b[0;34m:\u001b[0m\u001b[0;34m\u001b[0m\u001b[0;34m\u001b[0m\u001b[0m\n",
      "\u001b[0;32m~/anaconda3/lib/python3.7/json/encoder.py\u001b[0m in \u001b[0;36mdefault\u001b[0;34m(self, o)\u001b[0m\n\u001b[1;32m    177\u001b[0m \u001b[0;34m\u001b[0m\u001b[0m\n\u001b[1;32m    178\u001b[0m         \"\"\"\n\u001b[0;32m--> 179\u001b[0;31m         raise TypeError(f'Object of type {o.__class__.__name__} '\n\u001b[0m\u001b[1;32m    180\u001b[0m                         f'is not JSON serializable')\n\u001b[1;32m    181\u001b[0m \u001b[0;34m\u001b[0m\u001b[0m\n",
      "\u001b[0;31mTypeError\u001b[0m: Object of type TextIOWrapper is not JSON serializable"
     ]
    }
   ],
   "source": [
    "with open('events.json', 'w', encoding='utf-8') as events:\n",
    "    json.dump(events, events_file, ensure_ascii=False)"
   ]
  },
  {
   "cell_type": "markdown",
   "metadata": {},
   "source": [
    "# Let's write Event class and handlers for all fields"
   ]
  },
  {
   "cell_type": "code",
   "execution_count": null,
   "metadata": {},
   "outputs": [],
   "source": [
    "import handlers\n",
    "\n",
    "all_fields = set(fields.keys())\n",
    "required   = {key for key in fields if fields[key]['required']}\n",
    "optional   = {key for key in fields if not fields[key]['required']}\n",
    "\n",
    "\n",
    "\n",
    "\n",
    "\n",
    "class Event:\n",
    "    def __init__(self, url):\n",
    "        self.data = events[url]\n",
    "        self.data = self.update(url)\n",
    "        \n",
    "    def update(self, url):\n",
    "        today = current_date.isoformat()\n",
    "        available = set(self.data.keys())\n",
    "        analysis = {field for field in pages['Яндекс'] if pages['Яндекс'][field].get('selectors') == 'analysis'}\n",
    "        if self.data['date'] >= today:\n",
    "            #if any(required - available):\n",
    "            fields = all_fields - available - analysis\n",
    "            for field in fields:\n",
    "                self.data[field] = get_content(url, field)\n",
    "            self.data['tags'] = list(self.tags())\n",
    "\n",
    "    \n",
    "    def tags(self):\n",
    "        tags = {}\n",
    "        title = self.data['title']\n",
    "        event_url = self.data['event_url']\n",
    "        themes = self.data['themes'].copy()\n",
    "        themes.append(title)\n",
    "        themes.append(event_url)\n",
    "        text = ''.join(themes)\n",
    "        for key in tags:\n",
    "            for tag in tags[key]:\n",
    "                if tag.lower() in text.lower():\n",
    "                    self.data[tags].add(tag)\n",
    "        return tags\n",
    "\n",
    "    \n",
    "    def display(self):\n",
    "        print(self.data)"
   ]
  },
  {
   "cell_type": "code",
   "execution_count": null,
   "metadata": {},
   "outputs": [],
   "source": [
    "event = Event('https://cloud.yandex.ru/events/145')"
   ]
  },
  {
   "cell_type": "code",
   "execution_count": null,
   "metadata": {},
   "outputs": [],
   "source": [
    "print(event.data)"
   ]
  },
  {
   "cell_type": "markdown",
   "metadata": {},
   "source": [
    "# Let's process HTML and deploy the current version of the project 💃"
   ]
  },
  {
   "cell_type": "code",
   "execution_count": null,
   "metadata": {},
   "outputs": [],
   "source": [
    "soup = BeautifulSoup()\n",
    "section = soup.new_tag('section')\n",
    "section.string = \"new test\"\n",
    "soup.append(section)\n",
    "str(soup)"
   ]
  },
  {
   "cell_type": "code",
   "execution_count": null,
   "metadata": {},
   "outputs": [],
   "source": [
    "content = str(soup) # for test\n",
    "\n",
    "from pathlib import Path\n",
    "path_to_html_template = Path(\"../matyushkin.github.io/11ty/_includes/events.njk\")\n",
    "\n",
    "with open(path_to_html_template, 'wt', encoding='utf-8') as html_template:\n",
    "    html_template.write(content)"
   ]
  },
  {
   "cell_type": "markdown",
   "metadata": {},
   "source": [
    "I use [11ty](https://www.11ty.dev/) processing for manipulations with templates, headers and footers of html files on my [web site](https://matyushkin.github.io/). So the simplest way to include and deploy new files at GitHub pages is a Jupyter cell with simple bash code. I use `;` operator because Jupyter returns to current pwd on a new line."
   ]
  },
  {
   "cell_type": "code",
   "execution_count": null,
   "metadata": {},
   "outputs": [],
   "source": [
    "!cd ../matyushkin.github.io/11ty/; npx eleventy --passthroughall --output=..\n",
    "\n",
    "# Let's see quickly what we have now\n",
    "import webbrowser\n",
    "url = \"../matyushkin.github.io/events/index.html\"\n",
    "webbrowser.open_new_tab(url)"
   ]
  },
  {
   "cell_type": "markdown",
   "metadata": {},
   "source": [
    "If all is OK, it's only one line for deployment at GitHub pages:"
   ]
  },
  {
   "cell_type": "code",
   "execution_count": null,
   "metadata": {},
   "outputs": [],
   "source": [
    "! cd ../matyushkin.github.io/; git add . ; git commit -m \"Events project files are updated\"; git push origin master"
   ]
  }
 ],
 "metadata": {
  "kernelspec": {
   "display_name": "Python 3",
   "language": "python",
   "name": "python3"
  },
  "language_info": {
   "codemirror_mode": {
    "name": "ipython",
    "version": 3
   },
   "file_extension": ".py",
   "mimetype": "text/x-python",
   "name": "python",
   "nbconvert_exporter": "python",
   "pygments_lexer": "ipython3",
   "version": "3.7.6"
  }
 },
 "nbformat": 4,
 "nbformat_minor": 4
}
